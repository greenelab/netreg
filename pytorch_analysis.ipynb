{
 "cells": [
  {
   "cell_type": "markdown",
   "metadata": {},
   "source": [
    "## Analysis of PyTorch vs. sklearn logistic regression results"
   ]
  },
  {
   "cell_type": "code",
   "execution_count": 33,
   "metadata": {},
   "outputs": [],
   "source": [
    "import os\n",
    "import pickle as pkl\n",
    "import numpy as np\n",
    "import pandas as pd\n",
    "import matplotlib.pyplot as plt\n",
    "import seaborn as sns\n",
    "%matplotlib inline"
   ]
  },
  {
   "cell_type": "markdown",
   "metadata": {},
   "source": [
    "First, analyze the aggregate results, using accuracy/AUROC/AUPRC. If the implementation is correct the results should be close to the same."
   ]
  },
  {
   "cell_type": "code",
   "execution_count": 78,
   "metadata": {},
   "outputs": [],
   "source": [
    "# signals = ['signal', 'shuffled']\n",
    "# seeds = range(1, 6)\n",
    "signals = ['signal', 'shuffled']\n",
    "seeds = [1, 2, 3]"
   ]
  },
  {
   "cell_type": "code",
   "execution_count": 79,
   "metadata": {},
   "outputs": [
    {
     "data": {
      "text/html": [
       "<div>\n",
       "<style scoped>\n",
       "    .dataframe tbody tr th:only-of-type {\n",
       "        vertical-align: middle;\n",
       "    }\n",
       "\n",
       "    .dataframe tbody tr th {\n",
       "        vertical-align: top;\n",
       "    }\n",
       "\n",
       "    .dataframe thead th {\n",
       "        text-align: right;\n",
       "    }\n",
       "</style>\n",
       "<table border=\"1\" class=\"dataframe\">\n",
       "  <thead>\n",
       "    <tr style=\"text-align: right;\">\n",
       "      <th></th>\n",
       "      <th>imp</th>\n",
       "      <th>dataset</th>\n",
       "      <th>metric</th>\n",
       "      <th>fold</th>\n",
       "      <th>score</th>\n",
       "      <th>signal</th>\n",
       "      <th>seed</th>\n",
       "    </tr>\n",
       "  </thead>\n",
       "  <tbody>\n",
       "    <tr>\n",
       "      <th>0</th>\n",
       "      <td>sklearn</td>\n",
       "      <td>train</td>\n",
       "      <td>auroc</td>\n",
       "      <td>0</td>\n",
       "      <td>0.937014</td>\n",
       "      <td>signal</td>\n",
       "      <td>1</td>\n",
       "    </tr>\n",
       "    <tr>\n",
       "      <th>1</th>\n",
       "      <td>sklearn</td>\n",
       "      <td>train</td>\n",
       "      <td>aupr</td>\n",
       "      <td>0</td>\n",
       "      <td>0.918063</td>\n",
       "      <td>signal</td>\n",
       "      <td>1</td>\n",
       "    </tr>\n",
       "    <tr>\n",
       "      <th>2</th>\n",
       "      <td>sklearn</td>\n",
       "      <td>train</td>\n",
       "      <td>acc</td>\n",
       "      <td>0</td>\n",
       "      <td>0.874321</td>\n",
       "      <td>signal</td>\n",
       "      <td>1</td>\n",
       "    </tr>\n",
       "    <tr>\n",
       "      <th>3</th>\n",
       "      <td>sklearn</td>\n",
       "      <td>tune</td>\n",
       "      <td>auroc</td>\n",
       "      <td>0</td>\n",
       "      <td>0.910794</td>\n",
       "      <td>signal</td>\n",
       "      <td>1</td>\n",
       "    </tr>\n",
       "    <tr>\n",
       "      <th>4</th>\n",
       "      <td>sklearn</td>\n",
       "      <td>tune</td>\n",
       "      <td>aupr</td>\n",
       "      <td>0</td>\n",
       "      <td>0.861877</td>\n",
       "      <td>signal</td>\n",
       "      <td>1</td>\n",
       "    </tr>\n",
       "  </tbody>\n",
       "</table>\n",
       "</div>"
      ],
      "text/plain": [
       "       imp dataset metric  fold     score  signal  seed\n",
       "0  sklearn   train  auroc     0  0.937014  signal     1\n",
       "1  sklearn   train   aupr     0  0.918063  signal     1\n",
       "2  sklearn   train    acc     0  0.874321  signal     1\n",
       "3  sklearn    tune  auroc     0  0.910794  signal     1\n",
       "4  sklearn    tune   aupr     0  0.861877  signal     1"
      ]
     },
     "execution_count": 79,
     "metadata": {},
     "output_type": "execute_result"
    }
   ],
   "source": [
    "results_dir = os.path.abspath('./pytorch_results')\n",
    "results_df = None\n",
    "columns = ['imp', 'dataset', 'metric', 'fold', 'score', 'signal', 'seed']\n",
    "\n",
    "for signal in signals:\n",
    "    for seed in seeds:\n",
    "        parsed_result = {c: [] for c in columns}\n",
    "        cv_results_file = os.path.join(results_dir,\n",
    "                                       'cv_results_{}_{}.pkl'.format(signal, seed))\n",
    "        with open(cv_results_file, 'rb') as f:\n",
    "            cv_results = pkl.load(f)\n",
    "        num_folds = len(list(cv_results.values())[0])\n",
    "        for fold in range(num_folds):\n",
    "            for k, vs in cv_results.items():\n",
    "                imp, dataset, metric = k.split('_')\n",
    "                parsed_result['imp'].append(imp)\n",
    "                parsed_result['dataset'].append(dataset)\n",
    "                parsed_result['metric'].append(metric)\n",
    "                parsed_result['fold'].append(fold)\n",
    "                parsed_result['score'].append(vs[fold])\n",
    "                parsed_result['signal'].append(signal)\n",
    "                parsed_result['seed'].append(seed)\n",
    "        df = pd.DataFrame(parsed_result)\n",
    "        if results_df is None:\n",
    "            results_df = df\n",
    "        else:\n",
    "            results_df = pd.concat((results_df, df))\n",
    "\n",
    "results_df.head(n=5)"
   ]
  },
  {
   "cell_type": "code",
   "execution_count": 80,
   "metadata": {},
   "outputs": [
    {
     "data": {
      "image/png": "[encoded data removed]",
      "text/plain": [
       "<Figure size 1440x576 with 6 Axes>"
      ]
     },
     "metadata": {},
     "output_type": "display_data"
    }
   ],
   "source": [
    "metrics = np.unique(results_df['metric'].values)\n",
    "datasets = np.unique(results_df['dataset'].values)\n",
    "sns.set()\n",
    "fig, axarr = plt.subplots(len(datasets), len(metrics))\n",
    "fig.set_figheight(8)\n",
    "fig.set_figwidth(20)\n",
    "\n",
    "for i, dataset in enumerate(datasets):\n",
    "    for j, metric in enumerate(metrics):\n",
    "        ax = axarr[i, j]\n",
    "        plot_df = results_df[(results_df['metric'] == metric) & (results_df['dataset'] == dataset)]\n",
    "        sns.barplot(data=plot_df, x='signal', y='score', hue='imp', ax=ax)\n",
    "        ax.set_ylabel('{} {}'.format(dataset, metric))\n",
    "plt.tight_layout()\n",
    "fig.suptitle('PyTorch vs. sklearn scoring metrics for TP53 mutation classification')\n",
    "fig.subplots_adjust(top=0.925)"
   ]
  },
  {
   "cell_type": "markdown",
   "metadata": {},
   "source": [
    "Results look fairly similar between implementations.\n",
    "\n",
    "Next, we want to compare the sparsity of the models. If the PyTorch L1 penalty is working correctly, the models should have a similar number of zero coefficients."
   ]
  },
  {
   "cell_type": "code",
   "execution_count": 81,
   "metadata": {},
   "outputs": [
    {
     "data": {
      "text/html": [
       "<div>\n",
       "<style scoped>\n",
       "    .dataframe tbody tr th:only-of-type {\n",
       "        vertical-align: middle;\n",
       "    }\n",
       "\n",
       "    .dataframe tbody tr th {\n",
       "        vertical-align: top;\n",
       "    }\n",
       "\n",
       "    .dataframe thead th {\n",
       "        text-align: right;\n",
       "    }\n",
       "</style>\n",
       "<table border=\"1\" class=\"dataframe\">\n",
       "  <thead>\n",
       "    <tr style=\"text-align: right;\">\n",
       "      <th></th>\n",
       "      <th>imp</th>\n",
       "      <th>signal</th>\n",
       "      <th>seed</th>\n",
       "      <th>fold</th>\n",
       "      <th>sparsity</th>\n",
       "    </tr>\n",
       "  </thead>\n",
       "  <tbody>\n",
       "    <tr>\n",
       "      <th>0</th>\n",
       "      <td>sklearn</td>\n",
       "      <td>signal</td>\n",
       "      <td>1</td>\n",
       "      <td>1</td>\n",
       "      <td>0.976190</td>\n",
       "    </tr>\n",
       "    <tr>\n",
       "      <th>1</th>\n",
       "      <td>torch</td>\n",
       "      <td>signal</td>\n",
       "      <td>1</td>\n",
       "      <td>1</td>\n",
       "      <td>0.000000</td>\n",
       "    </tr>\n",
       "    <tr>\n",
       "      <th>2</th>\n",
       "      <td>sklearn</td>\n",
       "      <td>signal</td>\n",
       "      <td>1</td>\n",
       "      <td>2</td>\n",
       "      <td>0.974819</td>\n",
       "    </tr>\n",
       "    <tr>\n",
       "      <th>3</th>\n",
       "      <td>torch</td>\n",
       "      <td>signal</td>\n",
       "      <td>1</td>\n",
       "      <td>2</td>\n",
       "      <td>0.000000</td>\n",
       "    </tr>\n",
       "    <tr>\n",
       "      <th>4</th>\n",
       "      <td>sklearn</td>\n",
       "      <td>signal</td>\n",
       "      <td>1</td>\n",
       "      <td>3</td>\n",
       "      <td>0.972201</td>\n",
       "    </tr>\n",
       "  </tbody>\n",
       "</table>\n",
       "</div>"
      ],
      "text/plain": [
       "       imp  signal  seed  fold  sparsity\n",
       "0  sklearn  signal     1     1  0.976190\n",
       "1    torch  signal     1     1  0.000000\n",
       "2  sklearn  signal     1     2  0.974819\n",
       "3    torch  signal     1     2  0.000000\n",
       "4  sklearn  signal     1     3  0.972201"
      ]
     },
     "execution_count": 81,
     "metadata": {},
     "output_type": "execute_result"
    }
   ],
   "source": [
    "columns = ['imp', 'signal', 'seed', 'fold', 'sparsity']\n",
    "sparsity = []\n",
    "for signal in signals:\n",
    "    for seed in seeds:\n",
    "        sk_coefs_file = os.path.join(results_dir,\n",
    "                                     'sklearn_coefs_{}_{}.tsv.gz'.format(\n",
    "                                       signal, seed))\n",
    "        sk_coefs_df = pd.read_csv(sk_coefs_file, sep='\\t').sort_values('feature')\n",
    "        torch_coefs_file = os.path.join(results_dir,\n",
    "                                        'torch_coefs_{}_{}.tsv.gz'.format(\n",
    "                                          signal, seed))\n",
    "        torch_coefs_df = pd.read_csv(torch_coefs_file, sep='\\t').sort_values('feature')\n",
    "        folds = np.unique(sk_coefs_df['fold'].values)\n",
    "        for fold in folds:\n",
    "            sk_coefs = sk_coefs_df[sk_coefs_df['fold'] == fold]['weight'].values\n",
    "            torch_coefs = torch_coefs_df[torch_coefs_df['fold'] == fold]['weight'].values\n",
    "            sk_sparsity = np.count_nonzero(sk_coefs==0) / sk_coefs.shape[0]\n",
    "            torch_sparsity = np.count_nonzero(torch_coefs==0) / torch_coefs.shape[0]\n",
    "            sparsity.append(['sklearn', signal, seed, fold, sk_sparsity])\n",
    "            sparsity.append(['torch', signal, seed, fold, torch_sparsity])\n",
    "        if signal == 'signal' and seed == 2:\n",
    "            sk_plot_coefs = sk_coefs\n",
    "            torch_plot_coefs = torch_coefs\n",
    "            \n",
    "sparsity_df = pd.DataFrame(sparsity, columns=columns)\n",
    "sparsity_df.head()"
   ]
  },
  {
   "cell_type": "code",
   "execution_count": 82,
   "metadata": {},
   "outputs": [
    {
     "data": {
      "text/plain": [
       "Text(0.5, 1.0, 'Coefficient sparsity for PyTorch vs sklearn')"
      ]
     },
     "execution_count": 82,
     "metadata": {},
     "output_type": "execute_result"
    },
    {
     "data": {
      "image/png": "[encoded data removed]",
      "text/plain": [
       "<Figure size 432x288 with 1 Axes>"
      ]
     },
     "metadata": {},
     "output_type": "display_data"
    }
   ],
   "source": [
    "sns.set()\n",
    "sns.barplot(data=sparsity_df, x='signal', y='sparsity', hue='imp')\n",
    "plt.title('Coefficient sparsity for PyTorch vs sklearn')"
   ]
  },
  {
   "cell_type": "code",
   "execution_count": 83,
   "metadata": {},
   "outputs": [
    {
     "data": {
      "image/png": "[encoded data removed]",
      "text/plain": [
       "<Figure size 720x288 with 2 Axes>"
      ]
     },
     "metadata": {},
     "output_type": "display_data"
    }
   ],
   "source": [
    "sns.set()\n",
    "fig, axarr = plt.subplots(1, 2)\n",
    "fig.set_figwidth(10)\n",
    "fig.set_figheight(4)\n",
    "for i, coefs in enumerate([sk_plot_coefs, torch_plot_coefs]):\n",
    "    ax = axarr[i]\n",
    "    sns.distplot(coefs, kde=False, hist_kws={'edgecolor': 'black'}, ax=ax)\n",
    "    ax.set_title('{} coefficient distribution'.format('sklearn' if i==0 else 'torch'))\n",
    "plt.tight_layout()"
   ]
  },
  {
   "cell_type": "markdown",
   "metadata": {},
   "source": [
    "So, coefficients for the PyTorch model don't appear to be sparse at all, but the coefficient distribution looks reasonably similar to the distribution of scikit-learn coefficients. Weird!\n",
    "\n",
    "Why is this? I claim that my naive PyTorch implementation will almost never actually zero out the coefficients, although it shrinks many of them to almost zero.\n",
    "\n",
    "It turns out that shrinking coefficients to exactly zero (and keeping them there during the optimization procedure) makes sense in theory, but numerically it's a fairly difficult problem. See, for instance, [this paper](https://www.aclweb.org/anthology/P09-1054.pdf) which contains a nice explanation of why it's hard to implement. Scikit-learn implements the algorithm in that paper, which is why it is able to produce coefficients that are exactly 0.\n",
    "\n",
    "Luckily, for our purposes there's not much difference between exactly 0 and almost 0."
   ]
  },
  {
   "cell_type": "code",
   "execution_count": 84,
   "metadata": {},
   "outputs": [
    {
     "data": {
      "text/plain": [
       "Text(0.5, 1.0, 'Coefficient sparsity for PyTorch vs sklearn, with threshold')"
      ]
     },
     "execution_count": 84,
     "metadata": {},
     "output_type": "execute_result"
    },
    {
     "data": {
      "image/png": "[encoded data removed]",
      "text/plain": [
       "<Figure size 432x288 with 1 Axes>"
      ]
     },
     "metadata": {},
     "output_type": "display_data"
    }
   ],
   "source": [
    "columns = ['imp', 'signal', 'seed', 'fold', 'sparsity']\n",
    "sparsity = []\n",
    "for signal in signals:\n",
    "    for seed in seeds:\n",
    "        sk_coefs_file = os.path.join(results_dir,\n",
    "                                     'sklearn_coefs_{}_{}.tsv.gz'.format(\n",
    "                                       signal, seed))\n",
    "        sk_coefs_df = pd.read_csv(sk_coefs_file, sep='\\t').sort_values('feature')\n",
    "        torch_coefs_file = os.path.join(results_dir,\n",
    "                                        'torch_coefs_{}_{}.tsv.gz'.format(\n",
    "                                          signal, seed))\n",
    "        torch_coefs_df = pd.read_csv(torch_coefs_file, sep='\\t').sort_values('feature')\n",
    "        folds = np.unique(sk_coefs_df['fold'].values)\n",
    "        for fold in folds:\n",
    "            sk_coefs = sk_coefs_df[sk_coefs_df['fold'] == fold]['weight'].values\n",
    "            torch_coefs = torch_coefs_df[torch_coefs_df['fold'] == fold]['weight'].values\n",
    "            # for pytorch, to avoid dealing with numerical error near 0, just pick a\n",
    "            # (somewhat arbitrary) threshold and set all smaller coefficients to 0\n",
    "            close_to_zero = (np.abs(torch_coefs) < (np.abs(torch_coefs).max() / 1000))\n",
    "            torch_coefs[close_to_zero] = 0\n",
    "            sk_sparsity = np.count_nonzero(sk_coefs==0) / sk_coefs.shape[0]\n",
    "            torch_sparsity = np.count_nonzero(torch_coefs==0) / torch_coefs.shape[0]\n",
    "            sparsity.append(['sklearn', signal, seed, fold, sk_sparsity])\n",
    "            sparsity.append(['torch', signal, seed, fold, torch_sparsity])\n",
    "            \n",
    "sparsity_df = pd.DataFrame(sparsity, columns=columns)\n",
    "sns.set()\n",
    "sns.barplot(data=sparsity_df, x='signal', y='sparsity', hue='imp')\n",
    "plt.title('Coefficient sparsity for PyTorch vs sklearn, with threshold')"
   ]
  },
  {
   "cell_type": "markdown",
   "metadata": {},
   "source": [
    "Great! This looks fairly similar. But how different are the nonzero coefficients that the methods are finding? Is there any similarity to the signal that the methods are using to predict mutation status?"
   ]
  },
  {
   "cell_type": "code",
   "execution_count": 85,
   "metadata": {},
   "outputs": [
    {
     "name": "stdout",
     "output_type": "stream",
     "text": [
      "[0.012430939226519336, 0.009873060648801129, 0.01608910891089109, 0.012690355329949238, 0.014884979702300407, 0.01485148514851485, 0.021709633649932156, 0.013360739979445015, 0.016098484848484848]\n",
      "[0.25961538461538464, 0.25835866261398177, 0.22832369942196531, 0.26959247648902823, 0.2709677419354839, 0.2616822429906542, 0.2485207100591716, 0.23809523809523808, 0.2469879518072289]\n",
      "[0.04451038575667656, 0.0410958904109589, 0.04806786050895382, 0.040983606557377046, 0.07841409691629955, 0.04672057502246182, 0.04689984101748808, 0.054599850411368736, 0.0661049902786779]\n",
      "[0.012430939226519336, 0.009873060648801129, 0.01608910891089109, 0.012690355329949238, 0.014884979702300407, 0.01485148514851485, 0.021709633649932156, 0.013360739979445015, 0.016098484848484848]\n",
      "[0.25961538461538464, 0.25835866261398177, 0.22832369942196531, 0.26959247648902823, 0.2709677419354839, 0.2616822429906542, 0.2485207100591716, 0.23809523809523808, 0.2469879518072289]\n",
      "[0.04451038575667656, 0.0410958904109589, 0.04806786050895382, 0.040983606557377046, 0.07841409691629955, 0.04672057502246182, 0.04689984101748808, 0.054599850411368736, 0.0661049902786779]\n",
      "[0.0, 0.0, 0.0, 0.0, 0.0, 0.0, 0.0, 0.0, 0.0]\n",
      "[1.0, 0.0, 0.0, 0.0, 0.0, 0.02681992337164751, 0.006756756756756757, 0.0, 0.0]\n",
      "[1.0, 1.0, 1.0, 0.0, 0.0, 0.0, 0.0, 0.0, 1.0]\n"
     ]
    }
   ],
   "source": [
    "# TODO: some of this should go in a utilities file (functions, etc)\n",
    "\n",
    "torch_coefs_folds, sk_coefs_folds = {}, {}\n",
    "# extract coefficients by method/seed/fold\n",
    "for signal in ['signal', 'shuffled']:\n",
    "    torch_coefs_folds[signal] = {}\n",
    "    sk_coefs_folds[signal] = {}\n",
    "    for seed in seeds:\n",
    "        torch_coefs_folds[signal][seed] = {}\n",
    "        sk_coefs_folds[signal][seed] = {}\n",
    "        sk_coefs_file = os.path.join(results_dir,\n",
    "                                     'sklearn_coefs_{}_{}.tsv.gz'.format(signal, seed))\n",
    "        sk_coefs_df = pd.read_csv(sk_coefs_file, sep='\\t').sort_values('feature')\n",
    "        torch_coefs_file = os.path.join(results_dir,\n",
    "                                        'torch_coefs_{}_{}.tsv.gz'.format(signal, seed))\n",
    "        torch_coefs_df = pd.read_csv(torch_coefs_file, sep='\\t').sort_values('feature')\n",
    "        folds = np.unique(sk_coefs_df['fold'].values)\n",
    "        for fold in folds:\n",
    "            sk_coefs = sk_coefs_df[sk_coefs_df['fold'] == fold]['weight'].values\n",
    "            sk_genes = sk_coefs_df[sk_coefs_df['fold'] == fold]['feature'].values\n",
    "            torch_coefs = torch_coefs_df[torch_coefs_df['fold'] == fold]['weight'].values\n",
    "            torch_genes = torch_coefs_df[torch_coefs_df['fold'] == fold]['feature'].values\n",
    "            # for pytorch, to avoid dealing with numerical error near 0, just pick a\n",
    "            # (somewhat arbitrary) threshold and set all smaller coefficients to 0\n",
    "            close_to_zero = (np.abs(torch_coefs) < (np.abs(torch_coefs).max() / 1000))\n",
    "            torch_coefs[close_to_zero] = 0\n",
    "            torch_coefs_folds[signal][seed][fold] = (torch_coefs, torch_genes)\n",
    "            sk_coefs_folds[signal][seed][fold] = (sk_coefs, sk_genes)\n",
    "        \n",
    "# jaccard similarity (works with unequal length strings)\n",
    "def compute_jaccard(v1, v2):\n",
    "    intersection = v1.intersection(v2)\n",
    "    union = v1.union(v2)\n",
    "    return len(intersection) / len(union)\n",
    "        \n",
    "# get inter-method similarity on same seed/fold\n",
    "inter_method_sims = []\n",
    "for seed in seeds:\n",
    "    for fold in folds:\n",
    "        sk_coefs = sk_coefs_folds['signal'][seed][fold][0]\n",
    "        sk_genes = sk_coefs_folds['signal'][seed][fold][1]\n",
    "        sk_nz_coefs = (sk_coefs != 0)\n",
    "        sk_nz_genes = sk_genes[sk_nz_coefs]\n",
    "        torch_coefs = torch_coefs_folds['signal'][seed][fold][0]\n",
    "        torch_genes = torch_coefs_folds['signal'][seed][fold][1]\n",
    "        torch_nz_coefs = (torch_coefs != 0)\n",
    "        torch_nz_genes = torch_genes[torch_nz_coefs]\n",
    "        inter_method_sims.append(compute_jaccard(set(sk_nz_genes), set(torch_nz_genes)))\n",
    "        \n",
    "import itertools as it\n",
    "\n",
    "intra_method_sims_sk = []\n",
    "intra_method_sims_torch = []\n",
    "\n",
    "# get intra-method similarity within seeds, between folds\n",
    "# should be an \"upper bound\" of sorts for inter-method similarity\n",
    "# but is it actually?\n",
    "for seed in seeds:\n",
    "    for f1, f2 in it.combinations(folds, 2):\n",
    "        \n",
    "        # first for scikit-learn\n",
    "        sk_coefs_f1 = sk_coefs_folds['signal'][seed][f1][0]\n",
    "        sk_genes_f1 = sk_coefs_folds['signal'][seed][f1][1]\n",
    "        sk_coefs_f2 = sk_coefs_folds['signal'][seed][f2][0]\n",
    "        sk_genes_f2 = sk_coefs_folds['signal'][seed][f2][1]\n",
    "        sk_nz_coefs_f1 = (sk_coefs_f1 != 0)\n",
    "        sk_nz_genes_f1 = sk_genes_f1[sk_nz_coefs_f1]\n",
    "        sk_nz_coefs_f2 = (sk_coefs_f2 != 0)\n",
    "        sk_nz_genes_f2 = sk_genes_f2[sk_nz_coefs_f2]\n",
    "        intra_method_sims_sk.append(compute_jaccard(set(sk_nz_genes_f1), set(sk_nz_genes_f2)))\n",
    "        \n",
    "        # then for torch\n",
    "        torch_coefs_f1 = torch_coefs_folds['signal'][seed][f1][0]\n",
    "        torch_genes_f1 = torch_coefs_folds['signal'][seed][f1][1]\n",
    "        torch_coefs_f2 = torch_coefs_folds['signal'][seed][f2][0]\n",
    "        torch_genes_f2 = torch_coefs_folds['signal'][seed][f2][1]\n",
    "        torch_nz_coefs_f1 = (torch_coefs_f1 != 0)\n",
    "        torch_nz_genes_f1 = torch_genes_f1[torch_nz_coefs_f1]\n",
    "        torch_nz_coefs_f2 = (torch_coefs_f2 != 0)\n",
    "        torch_nz_genes_f2 = torch_genes_f2[torch_nz_coefs_f2]\n",
    "        intra_method_sims_torch.append(compute_jaccard(set(torch_nz_genes_f1), set(torch_nz_genes_f2)))\n",
    "        \n",
    "print(inter_method_sims)\n",
    "print(intra_method_sims_sk)\n",
    "print(intra_method_sims_torch)\n",
    "\n",
    "# get inter-method similarity on same seed/fold, shuffled\n",
    "inter_method_sims_shuffled = []\n",
    "for seed in seeds:\n",
    "    for fold in folds:\n",
    "        sk_coefs = sk_coefs_folds['shuffled'][seed][fold][0]\n",
    "        sk_genes = sk_coefs_folds['shuffled'][seed][fold][1]\n",
    "        sk_nz_coefs = (sk_coefs != 0)\n",
    "        sk_nz_genes = sk_genes[sk_nz_coefs]\n",
    "        torch_coefs = torch_coefs_folds['shuffled'][seed][fold][0]\n",
    "        torch_genes = torch_coefs_folds['shuffled'][seed][fold][1]\n",
    "        torch_nz_coefs = (torch_coefs != 0)\n",
    "        torch_nz_genes = torch_genes[torch_nz_coefs]\n",
    "        inter_method_sims_shuffled.append(compute_jaccard(set(sk_nz_genes), set(torch_nz_genes)))\n",
    "        \n",
    "import itertools as it\n",
    "\n",
    "intra_method_sims_shuffled_sk = []\n",
    "intra_method_sims_shuffled_torch = []\n",
    "\n",
    "# get intra-method similarity within seeds, between folds\n",
    "# should be an \"upper bound\" of sorts for inter-method similarity\n",
    "# but is it actually?\n",
    "for seed in seeds:\n",
    "    for f1, f2 in it.combinations(folds, 2):\n",
    "        \n",
    "        # first for scikit-learn\n",
    "        sk_coefs_f1 = sk_coefs_folds['shuffled'][seed][f1][0]\n",
    "        sk_genes_f1 = sk_coefs_folds['shuffled'][seed][f1][1]\n",
    "        sk_coefs_f2 = sk_coefs_folds['shuffled'][seed][f2][0]\n",
    "        sk_genes_f2 = sk_coefs_folds['shuffled'][seed][f2][1]\n",
    "        sk_nz_coefs_f1 = (sk_coefs_f1 != 0)\n",
    "        sk_nz_genes_f1 = sk_genes_f1[sk_nz_coefs_f1]\n",
    "        sk_nz_coefs_f2 = (sk_coefs_f2 != 0)\n",
    "        sk_nz_genes_f2 = sk_genes_f2[sk_nz_coefs_f2]\n",
    "        intra_method_sims_shuffled_sk.append(compute_jaccard(set(sk_nz_genes_f1), set(sk_nz_genes_f2)))\n",
    "        \n",
    "        # then for torch\n",
    "        torch_coefs_f1 = torch_coefs_folds['shuffled'][seed][f1][0]\n",
    "        torch_genes_f1 = torch_coefs_folds['shuffled'][seed][f1][1]\n",
    "        torch_coefs_f2 = torch_coefs_folds['shuffled'][seed][f2][0]\n",
    "        torch_genes_f2 = torch_coefs_folds['shuffled'][seed][f2][1]\n",
    "        torch_nz_coefs_f1 = (torch_coefs_f1 != 0)\n",
    "        torch_nz_genes_f1 = torch_genes_f1[torch_nz_coefs_f1]\n",
    "        torch_nz_coefs_f2 = (torch_coefs_f2 != 0)\n",
    "        torch_nz_genes_f2 = torch_genes_f2[torch_nz_coefs_f2]\n",
    "        intra_method_sims_shuffled_torch.append(compute_jaccard(set(torch_nz_genes_f1), set(torch_nz_genes_f2)))\n",
    "        \n",
    "print(inter_method_sims)\n",
    "print(intra_method_sims_sk)\n",
    "print(intra_method_sims_torch)\n",
    "\n",
    "print(inter_method_sims_shuffled)\n",
    "print(intra_method_sims_shuffled_sk)\n",
    "print(intra_method_sims_shuffled_torch)"
   ]
  },
  {
   "cell_type": "code",
   "execution_count": 95,
   "metadata": {},
   "outputs": [
    {
     "data": {
      "text/plain": [
       "Text(0, 0.5, 'Jaccard similarity')"
      ]
     },
     "execution_count": 95,
     "metadata": {},
     "output_type": "execute_result"
    },
    {
     "data": {
      "image/png": "[encoded data removed]",
      "text/plain": [
       "<Figure size 504x360 with 1 Axes>"
      ]
     },
     "metadata": {},
     "output_type": "display_data"
    }
   ],
   "source": [
    "# assemble into dataframe\n",
    "df_list = []\n",
    "for j in inter_method_sims:\n",
    "    df_list.append([j, 'inter', 'signal'])\n",
    "for j in intra_method_sims_sk:\n",
    "    df_list.append([j, 'intra_sk', 'signal'])\n",
    "for j in intra_method_sims_torch:\n",
    "    df_list.append([j, 'intra_torch', 'signal'])\n",
    "for j in inter_method_sims_shuffled:\n",
    "    df_list.append([j, 'inter', 'shuffled'])\n",
    "for j in intra_method_sims_shuffled_sk:\n",
    "    df_list.append([j, 'intra_sk', 'shuffled'])\n",
    "for j in intra_method_sims_shuffled_torch:\n",
    "    df_list.append([j, 'intra_torch', 'shuffled'])\n",
    "\n",
    "jaccard_df = pd.DataFrame(df_list, columns=['jaccard', 'comparison', 'signal'])\n",
    "sns.set(rc={'figure.figsize': (7, 5)})\n",
    "sns.barplot(data=jaccard_df, x='signal', y='jaccard', hue='comparison')\n",
    "plt.title('Jaccard similarity of nonzero coefficients within/between methods')\n",
    "plt.ylabel('Jaccard similarity')\n"
   ]
  },
  {
   "cell_type": "markdown",
   "metadata": {},
   "source": [
    "### __Key to the above comparisons that doesn't require the code:__\n",
    "\n",
    "* \"Inter-method\" comparison: compare sklearn vs. torch coefficients for the same random seeds/CV folds\n",
    "* \"Intra-method\" comparison: compare sklearn vs. sklearn (or torch vs. torch) coefficients for the same random seeds across CV folds\n",
    "* signal vs. shuffled: shuffled scrambles expression between genes (should be no predictive signal)\n",
    "\n",
    "### **Takeaways:**\n",
    "\n",
    "Coefficients are not very stable at all between methods. Despite having similar predictive performance and similar sparsity, the nonzero coefficients found by PyTorch and sklearn have almost no overlap.\n",
    "\n",
    "Coefficients are somewhat more stable within methods across different splits of the data. sklearn seems to be more stable than PyTorch in this regard, but both are better than the intra-method comparison.\n",
    "\n",
    "Shuffled results are weird (you can't see it here but the Jaccard index is mostly either 0 or 1, I would expect to see mostly 0 but who knows)\n"
   ]
  },
  {
   "cell_type": "code",
   "execution_count": null,
   "metadata": {},
   "outputs": [],
   "source": []
  }
 ],
 "metadata": {
  "kernelspec": {
   "display_name": "Python [conda env:netreg]",
   "language": "python",
   "name": "conda-env-netreg-py"
  },
  "language_info": {
   "codemirror_mode": {
    "name": "ipython",
    "version": 3
   },
   "file_extension": ".py",
   "mimetype": "text/x-python",
   "name": "python",
   "nbconvert_exporter": "python",
   "pygments_lexer": "ipython3",
   "version": "3.6.8"
  }
 },
 "nbformat": 4,
 "nbformat_minor": 2
}
