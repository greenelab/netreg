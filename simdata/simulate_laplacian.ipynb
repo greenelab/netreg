{
 "cells": [
  {
   "cell_type": "markdown",
   "metadata": {},
   "source": [
    "## Network regularization validation\n",
    "\n",
    "Process for generating data from a log-linear (logistic regression) model:\n",
    "\n",
    "* Sample features $x_{ij} \\sim \\mathcal{N}(0, 1)$\n",
    "* Sample regression coefficients $\\beta_k \\sim \\mathcal{N}(0, 1)$ for some $k \\leq j$ (that is, features $k+1, \\dots, j$ will not be correlated with the labels at all)\n",
    "* Calculate Bernoulli parameters: $$\\pi(x_i) = \\frac{1}{1 + \\exp\\left(-\\left(\\beta_0 + \\sum_j \\beta_j x_{ij}\\right)\\right)}$$\n",
    "* Sample labels $y_i \\sim \\text{Bernoulli}(\\pi(x_i))$"
   ]
  },
  {
   "cell_type": "code",
   "execution_count": 1,
   "metadata": {},
   "outputs": [],
   "source": [
    "import sys; sys.path.append('..')\n",
    "import numpy as np\n",
    "import pandas as pd\n",
    "import matplotlib.pyplot as plt\n",
    "import seaborn as sns\n",
    "\n",
    "from utilities.classify_pytorch import TorchLR\n",
    "from utilities.jaccard_utilities import compute_jaccard"
   ]
  },
  {
   "cell_type": "code",
   "execution_count": 2,
   "metadata": {},
   "outputs": [
    {
     "name": "stdout",
     "output_type": "stream",
     "text": [
      "Number of informative features: 10\n",
      "Number of uninformative features: 40\n",
      "Train samples: 40, test samples: 10\n"
     ]
    }
   ],
   "source": [
    "# simulation parameters\n",
    "import simulate_loglinear as ll\n",
    "\n",
    "# seed for random numbers\n",
    "seed = 42; np.random.seed(seed)\n",
    "n, p = 50, 50\n",
    "train_fraction = 0.8 # fraction of data used to fit the model\n",
    "uncorrelated_fraction = 0.8 # fraction of features which will be uncorrelated with the outcome\n",
    "\n",
    "X, y, pis, is_correlated = ll.simulate_ll(n, p, uncorrelated_fraction,\n",
    "                                          seed=seed, verbose=True, unit_coefs=True)\n",
    "train_ixs = ll.split_train_test(n, train_fraction, seed=seed, verbose=True)\n",
    "\n",
    "X_train, X_test = X[train_ixs], X[~train_ixs]\n",
    "y_train, y_test = y[train_ixs], y[~train_ixs]"
   ]
  },
  {
   "cell_type": "code",
   "execution_count": 3,
   "metadata": {},
   "outputs": [
    {
     "name": "stdout",
     "output_type": "stream",
     "text": [
      "[ True  True  True  True  True  True  True  True  True  True False False\n",
      " False False False False False False False False False False False False\n",
      " False False False False False False False False False False False False\n",
      " False False False False False False False False False False False False\n",
      " False False]\n"
     ]
    }
   ],
   "source": [
    "print(is_correlated)"
   ]
  },
  {
   "cell_type": "code",
   "execution_count": 4,
   "metadata": {},
   "outputs": [
    {
     "data": {
      "image/png": "[encoded data removed]",
      "text/plain": [
       "<Figure size 432x288 with 1 Axes>"
      ]
     },
     "metadata": {},
     "output_type": "display_data"
    }
   ],
   "source": [
    "# plot Bernoulli parameter distribution\n",
    "sns.set_style('whitegrid')\n",
    "sns.distplot(pis, hist_kws={'edgecolor': 'black'}, kde=False, bins=10)\n",
    "plt.xlim(0.0, 1.0)\n",
    "plt.xlabel('$\\pi(x_i)$')\n",
    "plt.ylabel('Count')\n",
    "plt.title('Distribution of Bernoulli parameter $\\pi(x_i)$')\n",
    "plt.show()"
   ]
  },
  {
   "cell_type": "code",
   "execution_count": 5,
   "metadata": {},
   "outputs": [
    {
     "data": {
      "image/png": "[encoded data removed]",
      "text/plain": [
       "<Figure size 432x288 with 1 Axes>"
      ]
     },
     "metadata": {},
     "output_type": "display_data"
    }
   ],
   "source": [
    "# plot label distribution\n",
    "sns.countplot(y)\n",
    "plt.ylabel('Count')\n",
    "plt.title('Label distribution')\n",
    "plt.show()"
   ]
  },
  {
   "cell_type": "markdown",
   "metadata": {},
   "source": [
    "Now, let's test how well logistic regression can predict the outcome."
   ]
  },
  {
   "cell_type": "code",
   "execution_count": 6,
   "metadata": {},
   "outputs": [
    {
     "name": "stdout",
     "output_type": "stream",
     "text": [
      "Sklearn train accuracy: 1.000\n",
      "Sklearn test accuracy: 0.600\n"
     ]
    }
   ],
   "source": [
    "from sklearn.linear_model import LogisticRegression\n",
    "\n",
    "clf = LogisticRegression(random_state=seed, penalty='none', solver='lbfgs')\n",
    "clf.fit(X_train, y_train)\n",
    "print('Sklearn train accuracy: {:.3f}'.format(clf.score(X_train, y_train)))\n",
    "print('Sklearn test accuracy: {:.3f}'.format(clf.score(X_test, y_test)))"
   ]
  },
  {
   "cell_type": "code",
   "execution_count": 7,
   "metadata": {},
   "outputs": [
    {
     "name": "stdout",
     "output_type": "stream",
     "text": [
      "Torch train accuracy: 1.000\n",
      "Torch test accuracy: 0.300\n"
     ]
    }
   ],
   "source": [
    "params_map = {\n",
    "    'learning_rate': [1e-2],\n",
    "    'batch_size': [50],\n",
    "    'num_epochs': [200],\n",
    "    'l1_penalty': [0.0]\n",
    "}\n",
    "\n",
    "torch_model = TorchLR(params_map, seed=2)\n",
    "losses, preds, preds_bn = torch_model.train_torch_model(X_train, X_test, y_train, y_test, save_weights=True)\n",
    "y_pred_train, y_pred_test = preds_bn\n",
    "print('Torch train accuracy: {:.3f}'.format(TorchLR.calculate_accuracy(y_train, y_pred_train.flatten())))\n",
    "print('Torch test accuracy: {:.3f}'.format(TorchLR.calculate_accuracy(y_test, y_pred_test.flatten())))"
   ]
  },
  {
   "cell_type": "code",
   "execution_count": 13,
   "metadata": {},
   "outputs": [
    {
     "name": "stdout",
     "output_type": "stream",
     "text": [
      "[ True  True  True  True  True  True  True  True  True  True False False\n",
      " False False False False False False False False False False False False\n",
      " False False False False False False False False False False False False\n",
      " False False False False False False False False False False False False\n",
      " False False]\n",
      "[[-0.20162748  0.2072574   0.26279122  0.22494411  0.29318982  0.02876436\n",
      "   0.19967467  0.12137789  0.27721617  0.10219419 -0.19708218  0.05214804\n",
      "  -0.21608119  0.29561514  0.24808563 -0.1553258   0.2549955  -0.30630493\n",
      "  -0.1167611  -0.12542874 -0.26078528  0.2236698  -0.23967868 -0.14239761\n",
      "  -0.15694077 -0.1017276   0.21840782 -0.01302954  0.12538609  0.15449639\n",
      "  -0.3555757   0.12323473  0.2835278  -0.12909916 -0.19301759 -0.1395767\n",
      "  -0.02273916 -0.10569194  0.11697028 -0.1741698  -0.14394286  0.12247694\n",
      "   0.28935078  0.22630176  0.13727875 -0.15744558 -0.15422137 -0.11431066\n",
      "   0.16028263  0.23988983]]\n",
      "1.9190373085439205\n",
      "6.993451830931008\n"
     ]
    }
   ],
   "source": [
    "print(is_correlated)\n",
    "print(torch_model.last_weights)\n",
    "print(sum(abs(torch_model.last_weights.flatten())[is_correlated]))\n",
    "print(sum(abs(torch_model.last_weights.flatten())[~is_correlated]))"
   ]
  },
  {
   "cell_type": "code",
   "execution_count": 9,
   "metadata": {},
   "outputs": [
    {
     "data": {
      "text/plain": [
       "array([[0., 1., 1., 1., 1., 1., 1., 1., 1., 1.],\n",
       "       [1., 0., 1., 1., 1., 1., 1., 1., 1., 1.],\n",
       "       [1., 1., 0., 1., 1., 1., 1., 1., 1., 1.],\n",
       "       [1., 1., 1., 0., 1., 1., 1., 1., 1., 1.],\n",
       "       [1., 1., 1., 1., 0., 1., 1., 1., 1., 1.],\n",
       "       [1., 1., 1., 1., 1., 0., 1., 1., 1., 1.],\n",
       "       [1., 1., 1., 1., 1., 1., 0., 1., 1., 1.],\n",
       "       [1., 1., 1., 1., 1., 1., 1., 0., 1., 1.],\n",
       "       [1., 1., 1., 1., 1., 1., 1., 1., 0., 1.],\n",
       "       [1., 1., 1., 1., 1., 1., 1., 1., 1., 0.]])"
      ]
     },
     "execution_count": 9,
     "metadata": {},
     "output_type": "execute_result"
    }
   ],
   "source": [
    "# testing if the network will help\n",
    "import itertools as it\n",
    "\n",
    "p_uncorr = int(uncorrelated_fraction * p)\n",
    "p_corr = p - p_uncorr\n",
    "\n",
    "corr_net = np.zeros((p_corr, p_corr))\n",
    "for (i, j) in it.combinations(range(p_corr), 2):\n",
    "    corr_net[i, j] = 1\n",
    "    corr_net[j, i] = 1\n",
    "adj_matrix = np.block([\n",
    "    [corr_net, np.zeros((p_corr, p_uncorr))],\n",
    "    [np.zeros((p_uncorr, p_corr)), np.eye(p_uncorr)]\n",
    "])\n",
    "nodelist = np.arange(p_uncorr+p_corr)\n",
    "\n",
    "adj_matrix[:10, :10]"
   ]
  },
  {
   "cell_type": "code",
   "execution_count": 10,
   "metadata": {},
   "outputs": [],
   "source": [
    "import os\n",
    "import networkx as nx\n",
    "\n",
    "def save_numpy_to_el(adj, nodelist, filename):\n",
    "    G = nx.from_numpy_matrix(adj)\n",
    "    G = nx.relabel_nodes(G, {ix: n for ix, n in enumerate(nodelist)})\n",
    "    nx.write_weighted_edgelist(G, filename, delimiter='\\t')\n",
    "    \n",
    "networks_dir = './sim_networks'\n",
    "\n",
    "if not os.path.exists(networks_dir):\n",
    "    os.makedirs(networks_dir)\n",
    "    \n",
    "network_file = os.path.join(networks_dir, 'sim_p{}_uncorr{}.tsv'.format(\n",
    "                                p, uncorrelated_fraction))\n",
    "save_numpy_to_el(adj_matrix, nodelist, network_file)"
   ]
  },
  {
   "cell_type": "code",
   "execution_count": 14,
   "metadata": {},
   "outputs": [
    {
     "name": "stdout",
     "output_type": "stream",
     "text": [
      "Torch train accuracy: 0.900\n",
      "Torch test accuracy: 0.400\n"
     ]
    }
   ],
   "source": [
    "params_map = {\n",
    "    'learning_rate': [1e-2],\n",
    "    'batch_size': [50],\n",
    "    'num_epochs': [200],\n",
    "    'l1_penalty': [0.0],\n",
    "    'network_penalty': [1]\n",
    "}\n",
    "\n",
    "torch_model = TorchLR(params_map, seed=2, network_file=network_file,\n",
    "                      network_features=np.array([1 for _ in range(p)]).astype('bool'),\n",
    "                      correlated_features=is_correlated,\n",
    "                      sim_network_size=p)\n",
    "losses, preds, preds_bn = torch_model.train_torch_model(X_train, X_test, y_train, y_test, save_weights=True)\n",
    "y_pred_train, y_pred_test = preds_bn\n",
    "print('Torch train accuracy: {:.3f}'.format(TorchLR.calculate_accuracy(y_train, y_pred_train.flatten())))\n",
    "print('Torch test accuracy: {:.3f}'.format(TorchLR.calculate_accuracy(y_test, y_pred_test.flatten())))"
   ]
  },
  {
   "cell_type": "code",
   "execution_count": 15,
   "metadata": {},
   "outputs": [
    {
     "name": "stdout",
     "output_type": "stream",
     "text": [
      "[ True  True  True  True  True  True  True  True  True  True False False\n",
      " False False False False False False False False False False False False\n",
      " False False False False False False False False False False False False\n",
      " False False False False False False False False False False False False\n",
      " False False]\n",
      "[[-0.09057994  0.09077875  0.15957867  0.1153088   0.18325034 -0.02130732\n",
      "   0.10403572  0.00952064  0.15753424 -0.00368207 -0.10083873  0.0922138\n",
      "  -0.14413401  0.24258682  0.13313794 -0.06184516  0.17735668 -0.20534511\n",
      "  -0.13676906  0.00708095 -0.24034938  0.11434186 -0.13327605 -0.02391467\n",
      "  -0.12302092 -0.05460696  0.11443742  0.01425993  0.03870448  0.05297938\n",
      "  -0.25175956  0.02782171  0.16053541 -0.02717556 -0.09910819 -0.16314127\n",
      "   0.03674512 -0.00249196  0.07740044 -0.17481087 -0.13896967 -0.00225437\n",
      "   0.1826824   0.16877173  0.03412782 -0.05312227 -0.06005002 -0.10003265\n",
      "   0.03612278  0.1342574 ]]\n",
      "0.9355764838401228\n",
      "4.142580513609573\n"
     ]
    }
   ],
   "source": [
    "print(is_correlated)\n",
    "print(torch_model.last_weights)\n",
    "print(sum(abs(torch_model.last_weights.flatten())[is_correlated]))\n",
    "print(sum(abs(torch_model.last_weights.flatten())[~is_correlated]))"
   ]
  },
  {
   "cell_type": "markdown",
   "metadata": {},
   "source": [
    "## Experiments\n",
    "\n",
    "We want to look at:\n",
    "\n",
    "* Accuracy: How well can we predict the outcome from the features?\n",
    "* Feature selection: How well can we predict which features are uncorrelated with the outcome?\n",
    "\n",
    "In these experiments, we record the above for varying dataset shapes (tall, square-ish, wide) and varying numbers of features that are uncorrelated with the outcome."
   ]
  },
  {
   "cell_type": "code",
   "execution_count": null,
   "metadata": {},
   "outputs": [],
   "source": [
    "# one tall dataset (n > p), one square dataset (n = p), one wide dataset (n < p)\n",
    "dataset_sizes = {\n",
    "    'tall': (1000, 20), \n",
    "    'square': (1000, 1000),\n",
    "    'wide': (1000, 10000)\n",
    "}\n",
    "uncorr_fracs = [0.0, 0.2, 0.5, 0.8]\n",
    "\n",
    "# just keep this constant for now, 0.8/0.2 train/test split\n",
    "train_frac = 0.8\n",
    "\n",
    "results = []\n",
    "\n",
    "for seed in range(5):\n",
    "    for ds, (n, p) in dataset_sizes.items():\n",
    "        for uncorr_frac in uncorr_fracs:\n",
    "        \n",
    "            # generate data with given parameters\n",
    "            X, y, _, is_correlated = ll.simulate_ll(n, p, uncorr_frac, seed=seed)\n",
    "            train_ixs = ll.split_train_test(n, train_frac, seed=seed)\n",
    "            X_train, X_test = X[train_ixs], X[~train_ixs]\n",
    "            y_train, y_test = y[train_ixs], y[~train_ixs]\n",
    "\n",
    "            # fit sklearn classifier\n",
    "            clf = LogisticRegression(random_state=seed, penalty='l1', solver='liblinear')\n",
    "            clf.fit(X_train, y_train)\n",
    "            sk_train_acc = clf.score(X_train, y_train)\n",
    "            sk_test_acc = clf.score(X_test, y_test)\n",
    "\n",
    "            # fit torch classifier\n",
    "            torch_model = TorchLR(params_map, seed=seed)        \n",
    "            _, __, preds_bn = torch_model.train_torch_model(X_train, X_test, y_train, y_test,\n",
    "                                                            save_weights=True)\n",
    "            torch_train_acc = TorchLR.calculate_accuracy(y_train, preds_bn[0].flatten())\n",
    "            torch_test_acc = TorchLR.calculate_accuracy(y_test, preds_bn[1].flatten())\n",
    "            \n",
    "            # random prediction baseline\n",
    "            random_preds_train = (np.random.uniform(size=len(y_train)) > 0.5).astype('int')\n",
    "            random_preds_test = (np.random.uniform(size=len(y_test)) > 0.5).astype('int')\n",
    "            random_train_acc = TorchLR.calculate_accuracy(y_train, random_preds_train)\n",
    "            random_test_acc = TorchLR.calculate_accuracy(y_test, random_preds_test)\n",
    "\n",
    "            # calculate coefficient overlap\n",
    "            torch_coefs = torch_model.last_weights.flatten()\n",
    "            close_to_zero = (np.abs(torch_coefs) < (np.abs(torch_coefs).max() / 1000))\n",
    "            torch_coefs[close_to_zero] = 0\n",
    "            \n",
    "            # select random coefficients to zero out as a baseline\n",
    "            # just select the same number of zeros as the torch coefficients for now\n",
    "            random_coefs = np.ones(torch_coefs.shape)\n",
    "            random_coefs[:np.count_nonzero(torch_coefs == 0)] = 0\n",
    "            np.random.shuffle(random_coefs)\n",
    "            \n",
    "            sk_jaccard = compute_jaccard(np.where(~is_correlated)[0], np.where(clf.coef_.flatten() == 0)[0])\n",
    "            torch_jaccard = compute_jaccard(np.where(~is_correlated)[0], np.where(torch_coefs == 0)[0])\n",
    "            random_jaccard = compute_jaccard(np.where(~is_correlated)[0], np.where(random_coefs == 0)[0])\n",
    "\n",
    "            results.append([seed, ds, uncorr_frac, 'sklearn', sk_train_acc, sk_test_acc, sk_jaccard[0]])\n",
    "            results.append([seed, ds, uncorr_frac, 'torch', torch_train_acc, torch_test_acc, torch_jaccard[0]])\n",
    "            results.append([seed, ds, uncorr_frac, 'random', random_train_acc, random_test_acc, random_jaccard[0]])\n",
    "        \n",
    "results_df = pd.DataFrame(results, columns=['seed', 'dataset', 'uncorr_frac', 'imp', 'train_acc', 'test_acc', 'coef_sim'])\n",
    "results_df.head()"
   ]
  },
  {
   "cell_type": "code",
   "execution_count": null,
   "metadata": {},
   "outputs": [],
   "source": [
    "tall_df = results_df[results_df['dataset'] == 'tall']\n",
    "tall_df.head(n=20)"
   ]
  },
  {
   "cell_type": "code",
   "execution_count": null,
   "metadata": {},
   "outputs": [],
   "source": [
    "sns.set(style='whitegrid', rc={'figure.figsize': (15, 8)})\n",
    "fig, axarr = plt.subplots(2, 3)\n",
    "for ix, (dataset, (n, p)) in enumerate(dataset_sizes.items()):\n",
    "    ax1 = axarr[0, ix]\n",
    "    data_df = results_df[results_df['dataset'] == dataset]\n",
    "    sns.set_style('whitegrid')\n",
    "    sns.lineplot(data=data_df, x='uncorr_frac', y='train_acc', err_style='bars', style='imp', hue='imp', ax=ax1)\n",
    "    ax1.set_xlabel('Fraction of uncorrelated features')\n",
    "    ax1.set_ylim(0.45, 1.05)\n",
    "    if ix == 0:\n",
    "        ax1.set_ylabel('Predictive accuracy on training data')\n",
    "    else:\n",
    "        ax1.set_ylabel('')\n",
    "    ax1.set_title('{} dataset (dimensions: n={}, p={})'.format(dataset, n, p))\n",
    "    ax2 = axarr[1, ix]\n",
    "    data_df = results_df[results_df['dataset'] == dataset]\n",
    "    sns.set_style('whitegrid')\n",
    "    sns.lineplot(data=data_df, x='uncorr_frac', y='test_acc', err_style='bars', style='imp', hue='imp', ax=ax2)\n",
    "    ax2.set_xlabel('Fraction of uncorrelated features')\n",
    "    ax2.set_ylim(0.45, 1.05)\n",
    "    if ix == 0:\n",
    "        ax2.set_ylabel('Predictive accuracy on test data')\n",
    "    else:\n",
    "        ax2.set_ylabel('')\n",
    "    ax2.set_title('{} dataset (dimensions: n={}, p={})'.format(dataset, n, p))\n",
    "plt.tight_layout()\n",
    "fig.suptitle('Accuracy vs. number of uncorrelated features on log-linear simulated data')\n",
    "fig.subplots_adjust(top=0.91)\n",
    "plt.show()"
   ]
  },
  {
   "cell_type": "code",
   "execution_count": null,
   "metadata": {},
   "outputs": [],
   "source": []
  }
 ],
 "metadata": {
  "kernelspec": {
   "display_name": "Python [conda env:netreg]",
   "language": "python",
   "name": "conda-env-netreg-py"
  },
  "language_info": {
   "codemirror_mode": {
    "name": "ipython",
    "version": 3
   },
   "file_extension": ".py",
   "mimetype": "text/x-python",
   "name": "python",
   "nbconvert_exporter": "python",
   "pygments_lexer": "ipython3",
   "version": "3.6.9"
  }
 },
 "nbformat": 4,
 "nbformat_minor": 2
}
