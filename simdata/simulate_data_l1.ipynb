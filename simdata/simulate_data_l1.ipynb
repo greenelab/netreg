{
 "cells": [
  {
   "cell_type": "markdown",
   "metadata": {},
   "source": [
    "## L1 robustness simulations"
   ]
  },
  {
   "cell_type": "code",
   "execution_count": 1,
   "metadata": {},
   "outputs": [],
   "source": [
    "import numpy as np\n",
    "import pandas as pd\n",
    "import matplotlib.pyplot as plt\n",
    "import seaborn as sns"
   ]
  },
  {
   "cell_type": "code",
   "execution_count": 2,
   "metadata": {},
   "outputs": [
    {
     "name": "stdout",
     "output_type": "stream",
     "text": [
      "Number of informative features: 25\n",
      "Number of uninformative features: 25\n",
      "Train samples: 80, test samples: 20\n"
     ]
    }
   ],
   "source": [
    "# simulation parameters\n",
    "import simulate_loglinear as ll\n",
    "\n",
    "# seed for random numbers\n",
    "seed = 42\n",
    "np.random.seed(seed)\n",
    "n, p = 100, 50\n",
    "train_fraction = 0.8 # fraction of data used to fit the model\n",
    "uncorrelated_fraction = 0.5 # fraction of features which will be uncorrelated with the outcome\n",
    "\n",
    "X, y, pis, is_correlated = ll.simulate_ll(n, p, uncorrelated_fraction,\n",
    "                                          seed=seed, verbose=True)\n",
    "train_ixs = ll.split_train_test(n, train_fraction, seed=seed, verbose=True)\n",
    "\n",
    "X_train, X_test = X[train_ixs], X[~train_ixs]\n",
    "y_train, y_test = y[train_ixs], y[~train_ixs]"
   ]
  },
  {
   "cell_type": "code",
   "execution_count": 3,
   "metadata": {},
   "outputs": [
    {
     "data": {
      "image/png": "[encoded data removed]",
      "text/plain": [
       "<Figure size 432x288 with 1 Axes>"
      ]
     },
     "metadata": {},
     "output_type": "display_data"
    }
   ],
   "source": [
    "# plot Bernoulli parameter distribution\n",
    "sns.set_style('whitegrid')\n",
    "sns.distplot(pis, hist_kws={'edgecolor': 'black'}, kde=False, bins=10)\n",
    "plt.xlim(0.0, 1.0)\n",
    "plt.xlabel('$\\pi(x_i)$')\n",
    "plt.ylabel('Count')\n",
    "plt.title('Distribution of Bernoulli parameter $\\pi(x_i)$')\n",
    "plt.show()"
   ]
  },
  {
   "cell_type": "code",
   "execution_count": 4,
   "metadata": {},
   "outputs": [
    {
     "data": {
      "image/png": "[encoded data removed]",
      "text/plain": [
       "<Figure size 432x288 with 1 Axes>"
      ]
     },
     "metadata": {},
     "output_type": "display_data"
    }
   ],
   "source": [
    "# plot label distribution\n",
    "sns.distplot(y, hist_kws={'edgecolor': 'black'}, kde=False, bins=2)\n",
    "plt.ylabel('Count')\n",
    "plt.title('Label distribution')\n",
    "plt.show()"
   ]
  },
  {
   "cell_type": "markdown",
   "metadata": {},
   "source": [
    "Now, let's test how well logistic regression can predict the outcome."
   ]
  },
  {
   "cell_type": "code",
   "execution_count": 5,
   "metadata": {},
   "outputs": [
    {
     "name": "stdout",
     "output_type": "stream",
     "text": [
      "Sklearn train accuracy: 0.988\n",
      "Sklearn test accuracy: 0.750\n"
     ]
    }
   ],
   "source": [
    "from sklearn.linear_model import LogisticRegression\n",
    "\n",
    "\n",
    "clf = LogisticRegression(random_state=seed, penalty='l1', solver='liblinear')\n",
    "# clf = LogisticRegression(random_state=seed, penalty='none', solver='lbfgs')\n",
    "clf.fit(X_train, y_train)\n",
    "print('Sklearn train accuracy: {:.3f}'.format(clf.score(X_train, y_train)))\n",
    "print('Sklearn test accuracy: {:.3f}'.format(clf.score(X_test, y_test)))"
   ]
  },
  {
   "cell_type": "code",
   "execution_count": 6,
   "metadata": {},
   "outputs": [
    {
     "name": "stdout",
     "output_type": "stream",
     "text": [
      "Torch train accuracy: 0.975\n",
      "Torch test accuracy: 0.800\n"
     ]
    }
   ],
   "source": [
    "import sys; sys.path.append('..')\n",
    "import config as cfg\n",
    "from utilities.classify_pytorch import TorchLR\n",
    "\n",
    "def calculate_accuracy(y, y_pred):\n",
    "    return np.linalg.norm([1 for i in range(len(y)) if y[i] == y_pred[i]], ord=0) / len(y)\n",
    "\n",
    "params_map = {\n",
    "    'learning_rate': [1e-2],\n",
    "    'batch_size': [50],\n",
    "    'num_epochs': [200],\n",
    "    'l1_penalty': [0.01]\n",
    "}\n",
    "\n",
    "torch_model = TorchLR(params_map, seed=2)\n",
    "losses, preds, preds_bn = torch_model.train_torch_model(X_train, X_test, y_train, y_test)\n",
    "y_pred_train, y_pred_test = preds_bn\n",
    "print('Torch train accuracy: {:.3f}'.format(calculate_accuracy(y_train, y_pred_train.flatten())))\n",
    "print('Torch test accuracy: {:.3f}'.format(calculate_accuracy(y_test, y_pred_test.flatten())))"
   ]
  },
  {
   "cell_type": "code",
   "execution_count": 9,
   "metadata": {},
   "outputs": [
    {
     "data": {
      "text/plain": [
       "array([0, 0, 1, 0, 0, 1, 1, 0, 0, 1, 0, 0, 1, 0, 0, 0, 1, 1, 1, 0, 1, 0,\n",
       "       0, 0, 1, 1, 0, 1, 1, 1, 1, 1, 0, 1, 0, 0, 1, 1, 0, 1, 0, 0, 1, 0,\n",
       "       0, 0, 0, 1, 1, 1, 0, 0, 0, 1, 1, 1, 0, 0, 0, 0, 0, 0, 1, 1, 0, 0,\n",
       "       0, 0, 1, 0, 0, 0, 0, 1, 1, 1, 0, 0, 1, 0])"
      ]
     },
     "execution_count": 9,
     "metadata": {},
     "output_type": "execute_result"
    }
   ],
   "source": [
    "y_train"
   ]
  },
  {
   "cell_type": "code",
   "execution_count": 10,
   "metadata": {},
   "outputs": [
    {
     "data": {
      "text/plain": [
       "array([0, 0, 1, 0, 0, 1, 1, 0, 0, 1, 0, 0, 1, 0, 0, 0, 1, 1, 1, 0, 1, 0,\n",
       "       0, 0, 1, 1, 0, 1, 1, 1, 1, 1, 0, 1, 0, 0, 1, 0, 0, 1, 0, 0, 1, 0,\n",
       "       0, 0, 0, 1, 1, 1, 0, 0, 0, 1, 1, 1, 0, 1, 0, 0, 0, 0, 1, 1, 0, 0,\n",
       "       0, 0, 1, 0, 0, 0, 0, 1, 1, 1, 0, 0, 1, 0])"
      ]
     },
     "execution_count": 10,
     "metadata": {},
     "output_type": "execute_result"
    }
   ],
   "source": [
    "preds_bn[0].flatten()"
   ]
  },
  {
   "cell_type": "code",
   "execution_count": null,
   "metadata": {},
   "outputs": [],
   "source": []
  }
 ],
 "metadata": {
  "kernelspec": {
   "display_name": "Python [conda env:netreg]",
   "language": "python",
   "name": "conda-env-netreg-py"
  },
  "language_info": {
   "codemirror_mode": {
    "name": "ipython",
    "version": 3
   },
   "file_extension": ".py",
   "mimetype": "text/x-python",
   "name": "python",
   "nbconvert_exporter": "python",
   "pygments_lexer": "ipython3",
   "version": "3.6.8"
  }
 },
 "nbformat": 4,
 "nbformat_minor": 2
}
