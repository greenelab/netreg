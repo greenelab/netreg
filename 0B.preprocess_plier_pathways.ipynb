{
 "cells": [
  {
   "cell_type": "markdown",
   "metadata": {},
   "source": [
    "# Preprocess PLIER pathway data and map gene symbols to Entrez IDs"
   ]
  },
  {
   "cell_type": "code",
   "execution_count": 59,
   "metadata": {},
   "outputs": [],
   "source": [
    "import os\n",
    "import urllib.request\n",
    "import pandas as pd\n",
    "\n",
    "import config as cfg\n",
    "from scripts.symbol_to_entrez_id import symbol_to_entrez_id"
   ]
  },
  {
   "cell_type": "markdown",
   "metadata": {},
   "source": [
    "## Get pathway .Rdata files from PLIER Github repo\n",
    "\n",
    "#### These are originally derived from MSigDB."
   ]
  },
  {
   "cell_type": "code",
   "execution_count": 88,
   "metadata": {},
   "outputs": [],
   "source": [
    "if not os.path.exists(cfg.pathway_data):\n",
    "    os.makedirs(cfg.pathway_data)\n",
    "canonical_pathways = os.path.join(cfg.pathway_data, 'canonical_pathways.tsv')\n",
    "oncogenic_pathways = os.path.join(cfg.pathway_data, 'oncogenic_pathways.tsv')\n",
    "if (not os.path.exists(canonical_pathways)) or (not os.path.exists(oncogenic_pathways)):\n",
    "    import subprocess\n",
    "    r_script = os.path.join(os.getcwd(), 'scripts', 'get_plier_pathway_data.R')\n",
    "    args = ['Rscript', r_script]\n",
    "    subprocess.check_call(args)"
   ]
  },
  {
   "cell_type": "code",
   "execution_count": 89,
   "metadata": {},
   "outputs": [
    {
     "data": {
      "text/html": [
       "<div>\n",
       "<style scoped>\n",
       "    .dataframe tbody tr th:only-of-type {\n",
       "        vertical-align: middle;\n",
       "    }\n",
       "\n",
       "    .dataframe tbody tr th {\n",
       "        vertical-align: top;\n",
       "    }\n",
       "\n",
       "    .dataframe thead th {\n",
       "        text-align: right;\n",
       "    }\n",
       "</style>\n",
       "<table border=\"1\" class=\"dataframe\">\n",
       "  <thead>\n",
       "    <tr style=\"text-align: right;\">\n",
       "      <th></th>\n",
       "      <th>PID_CASPASE_PATHWAY</th>\n",
       "      <th>PID_P38ALPHABETADOWNSTREAMPATHWAY</th>\n",
       "      <th>REACTOME_APC_C_CDC20_MEDIATED_DEGRADATION_OF_MITOTIC_PROTEINS</th>\n",
       "      <th>REACTOME_REGULATION_OF_APOPTOSIS</th>\n",
       "      <th>REACTOME_IRON_UPTAKE_AND_TRANSPORT</th>\n",
       "    </tr>\n",
       "  </thead>\n",
       "  <tbody>\n",
       "    <tr>\n",
       "      <th>UBE2Q1</th>\n",
       "      <td>0</td>\n",
       "      <td>0</td>\n",
       "      <td>0</td>\n",
       "      <td>0</td>\n",
       "      <td>0</td>\n",
       "    </tr>\n",
       "    <tr>\n",
       "      <th>UBE2Q2</th>\n",
       "      <td>0</td>\n",
       "      <td>0</td>\n",
       "      <td>0</td>\n",
       "      <td>0</td>\n",
       "      <td>0</td>\n",
       "    </tr>\n",
       "    <tr>\n",
       "      <th>PMM2</th>\n",
       "      <td>0</td>\n",
       "      <td>0</td>\n",
       "      <td>0</td>\n",
       "      <td>0</td>\n",
       "      <td>0</td>\n",
       "    </tr>\n",
       "    <tr>\n",
       "      <th>PMM1</th>\n",
       "      <td>0</td>\n",
       "      <td>0</td>\n",
       "      <td>0</td>\n",
       "      <td>0</td>\n",
       "      <td>0</td>\n",
       "    </tr>\n",
       "    <tr>\n",
       "      <th>NCBP1</th>\n",
       "      <td>0</td>\n",
       "      <td>0</td>\n",
       "      <td>0</td>\n",
       "      <td>0</td>\n",
       "      <td>0</td>\n",
       "    </tr>\n",
       "  </tbody>\n",
       "</table>\n",
       "</div>"
      ],
      "text/plain": [
       "        PID_CASPASE_PATHWAY  PID_P38ALPHABETADOWNSTREAMPATHWAY  \\\n",
       "UBE2Q1                    0                                  0   \n",
       "UBE2Q2                    0                                  0   \n",
       "PMM2                      0                                  0   \n",
       "PMM1                      0                                  0   \n",
       "NCBP1                     0                                  0   \n",
       "\n",
       "        REACTOME_APC_C_CDC20_MEDIATED_DEGRADATION_OF_MITOTIC_PROTEINS  \\\n",
       "UBE2Q1                                                  0               \n",
       "UBE2Q2                                                  0               \n",
       "PMM2                                                    0               \n",
       "PMM1                                                    0               \n",
       "NCBP1                                                   0               \n",
       "\n",
       "        REACTOME_REGULATION_OF_APOPTOSIS  REACTOME_IRON_UPTAKE_AND_TRANSPORT  \n",
       "UBE2Q1                                 0                                   0  \n",
       "UBE2Q2                                 0                                   0  \n",
       "PMM2                                   0                                   0  \n",
       "PMM1                                   0                                   0  \n",
       "NCBP1                                  0                                   0  "
      ]
     },
     "execution_count": 89,
     "metadata": {},
     "output_type": "execute_result"
    }
   ],
   "source": [
    "canonical_df = pd.read_csv(canonical_pathways, sep='\\t')\n",
    "oncogenic_df = pd.read_csv(oncogenic_pathways, sep='\\t')\n",
    "first_cols = canonical_df.columns.values[0:5]\n",
    "canonical_df.loc[:, first_cols].head()"
   ]
  },
  {
   "cell_type": "code",
   "execution_count": 90,
   "metadata": {},
   "outputs": [
    {
     "data": {
      "text/html": [
       "<div>\n",
       "<style scoped>\n",
       "    .dataframe tbody tr th:only-of-type {\n",
       "        vertical-align: middle;\n",
       "    }\n",
       "\n",
       "    .dataframe tbody tr th {\n",
       "        vertical-align: top;\n",
       "    }\n",
       "\n",
       "    .dataframe thead th {\n",
       "        text-align: right;\n",
       "    }\n",
       "</style>\n",
       "<table border=\"1\" class=\"dataframe\">\n",
       "  <thead>\n",
       "    <tr style=\"text-align: right;\">\n",
       "      <th></th>\n",
       "      <th>MYC_UP.V1_UP</th>\n",
       "      <th>PDGF_UP.V1_UP</th>\n",
       "      <th>BMI1_DN.V1_DN</th>\n",
       "      <th>SIRNA_EIF4GI_UP</th>\n",
       "      <th>CYCLIN_D1_KE_.V1_UP</th>\n",
       "    </tr>\n",
       "  </thead>\n",
       "  <tbody>\n",
       "    <tr>\n",
       "      <th>RNF14</th>\n",
       "      <td>0</td>\n",
       "      <td>1</td>\n",
       "      <td>0</td>\n",
       "      <td>0</td>\n",
       "      <td>0</td>\n",
       "    </tr>\n",
       "    <tr>\n",
       "      <th>DUOXA1</th>\n",
       "      <td>0</td>\n",
       "      <td>0</td>\n",
       "      <td>0</td>\n",
       "      <td>0</td>\n",
       "      <td>0</td>\n",
       "    </tr>\n",
       "    <tr>\n",
       "      <th>RNF17</th>\n",
       "      <td>0</td>\n",
       "      <td>0</td>\n",
       "      <td>0</td>\n",
       "      <td>0</td>\n",
       "      <td>0</td>\n",
       "    </tr>\n",
       "    <tr>\n",
       "      <th>RNF10</th>\n",
       "      <td>0</td>\n",
       "      <td>0</td>\n",
       "      <td>0</td>\n",
       "      <td>0</td>\n",
       "      <td>0</td>\n",
       "    </tr>\n",
       "    <tr>\n",
       "      <th>RNF11</th>\n",
       "      <td>0</td>\n",
       "      <td>0</td>\n",
       "      <td>0</td>\n",
       "      <td>0</td>\n",
       "      <td>0</td>\n",
       "    </tr>\n",
       "  </tbody>\n",
       "</table>\n",
       "</div>"
      ],
      "text/plain": [
       "        MYC_UP.V1_UP  PDGF_UP.V1_UP  BMI1_DN.V1_DN  SIRNA_EIF4GI_UP  \\\n",
       "RNF14              0              1              0                0   \n",
       "DUOXA1             0              0              0                0   \n",
       "RNF17              0              0              0                0   \n",
       "RNF10              0              0              0                0   \n",
       "RNF11              0              0              0                0   \n",
       "\n",
       "        CYCLIN_D1_KE_.V1_UP  \n",
       "RNF14                     0  \n",
       "DUOXA1                    0  \n",
       "RNF17                     0  \n",
       "RNF10                     0  \n",
       "RNF11                     0  "
      ]
     },
     "execution_count": 90,
     "metadata": {},
     "output_type": "execute_result"
    }
   ],
   "source": [
    "first_cols = oncogenic_df.columns.values[0:5]\n",
    "oncogenic_df.loc[:, first_cols].head()"
   ]
  },
  {
   "cell_type": "markdown",
   "metadata": {},
   "source": [
    "## Map canonical pathway data"
   ]
  },
  {
   "cell_type": "code",
   "execution_count": 91,
   "metadata": {},
   "outputs": [
    {
     "name": "stdout",
     "output_type": "stream",
     "text": [
      "Querying for exact matches:\n",
      "-- Matched 5832 of 6023 genes\n",
      "Trying to manually map unmapped genes:\n",
      "-- Matched 3 of 191 genes\n",
      "Querying MyGene for aliases of 188 unmatched genes:\n",
      "-- Found aliases for 187 of 188 genes\n",
      "Querying for alias entrez IDs:\n",
      "-- Matched 187 of 187 genes\n",
      "RESULTS: matched 6022 of 6023 genes (0 duplicate Entrez IDs)\n",
      "[]\n",
      "ADA\t100\n",
      "CDH2\t1000\n",
      "AKT3\t10000\n",
      "MED6\t10001\n",
      "ACOT8\t10005\n"
     ]
    }
   ],
   "source": [
    "gene_symbols = canonical_df.index.values\n",
    "canonical_map = symbol_to_entrez_id(gene_symbols, verbose=True)\n",
    "for i, (k, v) in enumerate(canonical_map.items()):\n",
    "    if i >= 5: break\n",
    "    print('{}\\t{}'.format(k, v))"
   ]
  },
  {
   "cell_type": "code",
   "execution_count": 92,
   "metadata": {},
   "outputs": [
    {
     "data": {
      "text/html": [
       "<div>\n",
       "<style scoped>\n",
       "    .dataframe tbody tr th:only-of-type {\n",
       "        vertical-align: middle;\n",
       "    }\n",
       "\n",
       "    .dataframe tbody tr th {\n",
       "        vertical-align: top;\n",
       "    }\n",
       "\n",
       "    .dataframe thead th {\n",
       "        text-align: right;\n",
       "    }\n",
       "</style>\n",
       "<table border=\"1\" class=\"dataframe\">\n",
       "  <thead>\n",
       "    <tr style=\"text-align: right;\">\n",
       "      <th></th>\n",
       "      <th>PID_CASPASE_PATHWAY</th>\n",
       "      <th>PID_P38ALPHABETADOWNSTREAMPATHWAY</th>\n",
       "      <th>REACTOME_APC_C_CDC20_MEDIATED_DEGRADATION_OF_MITOTIC_PROTEINS</th>\n",
       "      <th>REACTOME_REGULATION_OF_APOPTOSIS</th>\n",
       "      <th>REACTOME_IRON_UPTAKE_AND_TRANSPORT</th>\n",
       "    </tr>\n",
       "  </thead>\n",
       "  <tbody>\n",
       "    <tr>\n",
       "      <th>55585</th>\n",
       "      <td>0</td>\n",
       "      <td>0</td>\n",
       "      <td>0</td>\n",
       "      <td>0</td>\n",
       "      <td>0</td>\n",
       "    </tr>\n",
       "    <tr>\n",
       "      <th>92912</th>\n",
       "      <td>0</td>\n",
       "      <td>0</td>\n",
       "      <td>0</td>\n",
       "      <td>0</td>\n",
       "      <td>0</td>\n",
       "    </tr>\n",
       "    <tr>\n",
       "      <th>5373</th>\n",
       "      <td>0</td>\n",
       "      <td>0</td>\n",
       "      <td>0</td>\n",
       "      <td>0</td>\n",
       "      <td>0</td>\n",
       "    </tr>\n",
       "    <tr>\n",
       "      <th>5372</th>\n",
       "      <td>0</td>\n",
       "      <td>0</td>\n",
       "      <td>0</td>\n",
       "      <td>0</td>\n",
       "      <td>0</td>\n",
       "    </tr>\n",
       "    <tr>\n",
       "      <th>4686</th>\n",
       "      <td>0</td>\n",
       "      <td>0</td>\n",
       "      <td>0</td>\n",
       "      <td>0</td>\n",
       "      <td>0</td>\n",
       "    </tr>\n",
       "  </tbody>\n",
       "</table>\n",
       "</div>"
      ],
      "text/plain": [
       "       PID_CASPASE_PATHWAY  PID_P38ALPHABETADOWNSTREAMPATHWAY  \\\n",
       "55585                    0                                  0   \n",
       "92912                    0                                  0   \n",
       "5373                     0                                  0   \n",
       "5372                     0                                  0   \n",
       "4686                     0                                  0   \n",
       "\n",
       "       REACTOME_APC_C_CDC20_MEDIATED_DEGRADATION_OF_MITOTIC_PROTEINS  \\\n",
       "55585                                                  0               \n",
       "92912                                                  0               \n",
       "5373                                                   0               \n",
       "5372                                                   0               \n",
       "4686                                                   0               \n",
       "\n",
       "       REACTOME_REGULATION_OF_APOPTOSIS  REACTOME_IRON_UPTAKE_AND_TRANSPORT  \n",
       "55585                                 0                                   0  \n",
       "92912                                 0                                   0  \n",
       "5373                                  0                                   0  \n",
       "5372                                  0                                   0  \n",
       "4686                                  0                                   0  "
      ]
     },
     "execution_count": 92,
     "metadata": {},
     "output_type": "execute_result"
    }
   ],
   "source": [
    "canonical_df = canonical_df.assign(eid=canonical_df.index.map(canonical_map))\n",
    "unmapped_genes = canonical_df[canonical_df['eid'] == 'N/A']\n",
    "canonical_df = (\n",
    "    canonical_df.dropna(subset=['eid'])\n",
    "    .set_index('eid')\n",
    ")\n",
    "del canonical_df.index.name\n",
    "canonical_df.iloc[:5, :5]"
   ]
  },
  {
   "cell_type": "code",
   "execution_count": 94,
   "metadata": {},
   "outputs": [
    {
     "name": "stdout",
     "output_type": "stream",
     "text": [
      "Number of gene symbols not mapped: 1 (CD97)\n"
     ]
    }
   ],
   "source": [
    "print('Number of gene symbols not mapped: {} ({})'.format(\n",
    "    len(unmapped_genes), ' '.join(unmapped_genes.index.values)))"
   ]
  },
  {
   "cell_type": "code",
   "execution_count": 19,
   "metadata": {},
   "outputs": [],
   "source": [
    "canonical_df.to_csv(os.path.join(cfg.pathway_data, 'canonical_mapped2.tsv'),\n",
    "                    sep='\\t')"
   ]
  },
  {
   "cell_type": "markdown",
   "metadata": {},
   "source": [
    "## Map oncogenic pathway data"
   ]
  },
  {
   "cell_type": "code",
   "execution_count": 20,
   "metadata": {},
   "outputs": [
    {
     "name": "stdout",
     "output_type": "stream",
     "text": [
      "Querying for exact matches:\n",
      "-- Matched 10288 of 11250 genes\n",
      "Trying to manually map unmapped genes:\n",
      "-- Matched 162 of 962 genes\n",
      "Querying MyGene for aliases of 800 unmatched genes:\n",
      "-- Found aliases for 707 of 800 genes\n",
      "Querying for alias entrez IDs:\n",
      "-- Matched 707 of 707 genes\n",
      "RESULTS: matched 11157 of 11250 genes (0 duplicate Entrez IDs)\n",
      "[]\n",
      "ADA\t100\n",
      "CDH2\t1000\n",
      "AKT3\t10000\n",
      "MED6\t10001\n",
      "ACOT8\t10005\n"
     ]
    }
   ],
   "source": [
    "gene_symbols = oncogenic_df.index.values\n",
    "oncogenic_map = symbol_to_entrez_id(gene_symbols, verbose=True)\n",
    "for i, (k, v) in enumerate(canonical_map.items()):\n",
    "    if i >= 5: break\n",
    "    print('{}\\t{}'.format(k, v))"
   ]
  },
  {
   "cell_type": "code",
   "execution_count": 21,
   "metadata": {},
   "outputs": [
    {
     "data": {
      "text/html": [
       "<div>\n",
       "<style scoped>\n",
       "    .dataframe tbody tr th:only-of-type {\n",
       "        vertical-align: middle;\n",
       "    }\n",
       "\n",
       "    .dataframe tbody tr th {\n",
       "        vertical-align: top;\n",
       "    }\n",
       "\n",
       "    .dataframe thead th {\n",
       "        text-align: right;\n",
       "    }\n",
       "</style>\n",
       "<table border=\"1\" class=\"dataframe\">\n",
       "  <thead>\n",
       "    <tr style=\"text-align: right;\">\n",
       "      <th></th>\n",
       "      <th>MYC_UP.V1_UP</th>\n",
       "      <th>PDGF_UP.V1_UP</th>\n",
       "      <th>BMI1_DN.V1_DN</th>\n",
       "      <th>SIRNA_EIF4GI_UP</th>\n",
       "      <th>CYCLIN_D1_KE_.V1_UP</th>\n",
       "    </tr>\n",
       "  </thead>\n",
       "  <tbody>\n",
       "    <tr>\n",
       "      <th>9604</th>\n",
       "      <td>0</td>\n",
       "      <td>1</td>\n",
       "      <td>0</td>\n",
       "      <td>0</td>\n",
       "      <td>0</td>\n",
       "    </tr>\n",
       "    <tr>\n",
       "      <th>90527</th>\n",
       "      <td>0</td>\n",
       "      <td>0</td>\n",
       "      <td>0</td>\n",
       "      <td>0</td>\n",
       "      <td>0</td>\n",
       "    </tr>\n",
       "    <tr>\n",
       "      <th>56163</th>\n",
       "      <td>0</td>\n",
       "      <td>0</td>\n",
       "      <td>0</td>\n",
       "      <td>0</td>\n",
       "      <td>0</td>\n",
       "    </tr>\n",
       "    <tr>\n",
       "      <th>9921</th>\n",
       "      <td>0</td>\n",
       "      <td>0</td>\n",
       "      <td>0</td>\n",
       "      <td>0</td>\n",
       "      <td>0</td>\n",
       "    </tr>\n",
       "    <tr>\n",
       "      <th>26994</th>\n",
       "      <td>0</td>\n",
       "      <td>0</td>\n",
       "      <td>0</td>\n",
       "      <td>0</td>\n",
       "      <td>0</td>\n",
       "    </tr>\n",
       "  </tbody>\n",
       "</table>\n",
       "</div>"
      ],
      "text/plain": [
       "       MYC_UP.V1_UP  PDGF_UP.V1_UP  BMI1_DN.V1_DN  SIRNA_EIF4GI_UP  \\\n",
       "9604              0              1              0                0   \n",
       "90527             0              0              0                0   \n",
       "56163             0              0              0                0   \n",
       "9921              0              0              0                0   \n",
       "26994             0              0              0                0   \n",
       "\n",
       "       CYCLIN_D1_KE_.V1_UP  \n",
       "9604                     0  \n",
       "90527                    0  \n",
       "56163                    0  \n",
       "9921                     0  \n",
       "26994                    0  "
      ]
     },
     "execution_count": 21,
     "metadata": {},
     "output_type": "execute_result"
    }
   ],
   "source": [
    "oncogenic_df['eid'] = [oncogenic_map[g] for g in oncogenic_df.index.values]\n",
    "oncogenic_df = oncogenic_df[oncogenic_df['eid'] != 'N/A']\n",
    "oncogenic_df.set_index('eid', inplace=True)\n",
    "del oncogenic_df.index.name\n",
    "first_cols = oncogenic_df.columns.values[0:5]\n",
    "oncogenic_df.loc[:, first_cols].head()"
   ]
  },
  {
   "cell_type": "code",
   "execution_count": 22,
   "metadata": {},
   "outputs": [],
   "source": [
    "oncogenic_df.to_csv(os.path.join(cfg.pathway_data, 'oncogenic_mapped.tsv'),\n",
    "                    sep='\\t')"
   ]
  },
  {
   "cell_type": "markdown",
   "metadata": {},
   "source": [
    "## Generate randomized pathway data from set of all TCGA genes"
   ]
  },
  {
   "cell_type": "code",
   "execution_count": null,
   "metadata": {},
   "outputs": [],
   "source": []
  }
 ],
 "metadata": {
  "kernelspec": {
   "display_name": "Python [conda env:netreg]",
   "language": "python",
   "name": "conda-env-netreg-py"
  },
  "language_info": {
   "codemirror_mode": {
    "name": "ipython",
    "version": 3
   },
   "file_extension": ".py",
   "mimetype": "text/x-python",
   "name": "python",
   "nbconvert_exporter": "python",
   "pygments_lexer": "ipython3",
   "version": "3.6.8"
  }
 },
 "nbformat": 4,
 "nbformat_minor": 2
}
