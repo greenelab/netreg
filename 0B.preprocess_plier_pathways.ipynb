{
 "cells": [
  {
   "cell_type": "markdown",
   "metadata": {},
   "source": [
    "# Preprocess PLIER pathway data and map gene symbols to Entrez IDs"
   ]
  },
  {
   "cell_type": "code",
   "execution_count": 3,
   "metadata": {},
   "outputs": [],
   "source": [
    "import os\n",
    "import urllib.request\n",
    "import pandas as pd\n",
    "\n",
    "import config as cfg\n",
    "from scripts.symbol_to_entrez_id import symbol_to_entrez_id"
   ]
  },
  {
   "cell_type": "markdown",
   "metadata": {},
   "source": [
    "#### Get pathway .Rdata files from PLIER Github repo. These are derived from MSigDB. (TODO more detail)"
   ]
  },
  {
   "cell_type": "code",
   "execution_count": 7,
   "metadata": {},
   "outputs": [],
   "source": [
    "if not os.path.exists(cfg.pathway_data):\n",
    "    os.makedirs(cfg.pathway_data)\n",
    "canonical_pathways = os.path.join(cfg.pathway_data, 'canonical_pathways.tsv')\n",
    "oncogenic_pathways = os.path.join(cfg.pathway_data, 'oncogenic_pathways.tsv')\n",
    "if (not os.path.exists(canonical_pathways)) or (not os.path.exists(oncogenic_pathways)):\n",
    "    import subprocess\n",
    "    r_script = os.path.join(os.getcwd(), 'scripts', 'get_plier_pathway_data.R')\n",
    "    args = ['Rscript', r_script]\n",
    "    subprocess.check_call(args)"
   ]
  },
  {
   "cell_type": "code",
   "execution_count": 8,
   "metadata": {},
   "outputs": [
    {
     "data": {
      "text/html": [
       "<div>\n",
       "<style scoped>\n",
       "    .dataframe tbody tr th:only-of-type {\n",
       "        vertical-align: middle;\n",
       "    }\n",
       "\n",
       "    .dataframe tbody tr th {\n",
       "        vertical-align: top;\n",
       "    }\n",
       "\n",
       "    .dataframe thead th {\n",
       "        text-align: right;\n",
       "    }\n",
       "</style>\n",
       "<table border=\"1\" class=\"dataframe\">\n",
       "  <thead>\n",
       "    <tr style=\"text-align: right;\">\n",
       "      <th></th>\n",
       "      <th>PID_CASPASE_PATHWAY</th>\n",
       "      <th>PID_P38ALPHABETADOWNSTREAMPATHWAY</th>\n",
       "      <th>REACTOME_APC_C_CDC20_MEDIATED_DEGRADATION_OF_MITOTIC_PROTEINS</th>\n",
       "      <th>REACTOME_REGULATION_OF_APOPTOSIS</th>\n",
       "      <th>REACTOME_IRON_UPTAKE_AND_TRANSPORT</th>\n",
       "    </tr>\n",
       "  </thead>\n",
       "  <tbody>\n",
       "    <tr>\n",
       "      <th>UBE2Q1</th>\n",
       "      <td>0</td>\n",
       "      <td>0</td>\n",
       "      <td>0</td>\n",
       "      <td>0</td>\n",
       "      <td>0</td>\n",
       "    </tr>\n",
       "    <tr>\n",
       "      <th>UBE2Q2</th>\n",
       "      <td>0</td>\n",
       "      <td>0</td>\n",
       "      <td>0</td>\n",
       "      <td>0</td>\n",
       "      <td>0</td>\n",
       "    </tr>\n",
       "    <tr>\n",
       "      <th>PMM2</th>\n",
       "      <td>0</td>\n",
       "      <td>0</td>\n",
       "      <td>0</td>\n",
       "      <td>0</td>\n",
       "      <td>0</td>\n",
       "    </tr>\n",
       "    <tr>\n",
       "      <th>PMM1</th>\n",
       "      <td>0</td>\n",
       "      <td>0</td>\n",
       "      <td>0</td>\n",
       "      <td>0</td>\n",
       "      <td>0</td>\n",
       "    </tr>\n",
       "    <tr>\n",
       "      <th>NCBP1</th>\n",
       "      <td>0</td>\n",
       "      <td>0</td>\n",
       "      <td>0</td>\n",
       "      <td>0</td>\n",
       "      <td>0</td>\n",
       "    </tr>\n",
       "  </tbody>\n",
       "</table>\n",
       "</div>"
      ],
      "text/plain": [
       "        PID_CASPASE_PATHWAY  PID_P38ALPHABETADOWNSTREAMPATHWAY  \\\n",
       "UBE2Q1                    0                                  0   \n",
       "UBE2Q2                    0                                  0   \n",
       "PMM2                      0                                  0   \n",
       "PMM1                      0                                  0   \n",
       "NCBP1                     0                                  0   \n",
       "\n",
       "        REACTOME_APC_C_CDC20_MEDIATED_DEGRADATION_OF_MITOTIC_PROTEINS  \\\n",
       "UBE2Q1                                                  0               \n",
       "UBE2Q2                                                  0               \n",
       "PMM2                                                    0               \n",
       "PMM1                                                    0               \n",
       "NCBP1                                                   0               \n",
       "\n",
       "        REACTOME_REGULATION_OF_APOPTOSIS  REACTOME_IRON_UPTAKE_AND_TRANSPORT  \n",
       "UBE2Q1                                 0                                   0  \n",
       "UBE2Q2                                 0                                   0  \n",
       "PMM2                                   0                                   0  \n",
       "PMM1                                   0                                   0  \n",
       "NCBP1                                  0                                   0  "
      ]
     },
     "execution_count": 8,
     "metadata": {},
     "output_type": "execute_result"
    }
   ],
   "source": [
    "canonical_df = pd.read_csv(canonical_pathways, sep='\\t')\n",
    "oncogenic_df = pd.read_csv(oncogenic_pathways, sep='\\t')\n",
    "first_cols = canonical_df.columns.values[0:5]\n",
    "canonical_df.loc[:, first_cols].head()"
   ]
  },
  {
   "cell_type": "code",
   "execution_count": 9,
   "metadata": {},
   "outputs": [
    {
     "data": {
      "text/html": [
       "<div>\n",
       "<style scoped>\n",
       "    .dataframe tbody tr th:only-of-type {\n",
       "        vertical-align: middle;\n",
       "    }\n",
       "\n",
       "    .dataframe tbody tr th {\n",
       "        vertical-align: top;\n",
       "    }\n",
       "\n",
       "    .dataframe thead th {\n",
       "        text-align: right;\n",
       "    }\n",
       "</style>\n",
       "<table border=\"1\" class=\"dataframe\">\n",
       "  <thead>\n",
       "    <tr style=\"text-align: right;\">\n",
       "      <th></th>\n",
       "      <th>MYC_UP.V1_UP</th>\n",
       "      <th>PDGF_UP.V1_UP</th>\n",
       "      <th>BMI1_DN.V1_DN</th>\n",
       "      <th>SIRNA_EIF4GI_UP</th>\n",
       "      <th>CYCLIN_D1_KE_.V1_UP</th>\n",
       "    </tr>\n",
       "  </thead>\n",
       "  <tbody>\n",
       "    <tr>\n",
       "      <th>RNF14</th>\n",
       "      <td>0</td>\n",
       "      <td>1</td>\n",
       "      <td>0</td>\n",
       "      <td>0</td>\n",
       "      <td>0</td>\n",
       "    </tr>\n",
       "    <tr>\n",
       "      <th>DUOXA1</th>\n",
       "      <td>0</td>\n",
       "      <td>0</td>\n",
       "      <td>0</td>\n",
       "      <td>0</td>\n",
       "      <td>0</td>\n",
       "    </tr>\n",
       "    <tr>\n",
       "      <th>RNF17</th>\n",
       "      <td>0</td>\n",
       "      <td>0</td>\n",
       "      <td>0</td>\n",
       "      <td>0</td>\n",
       "      <td>0</td>\n",
       "    </tr>\n",
       "    <tr>\n",
       "      <th>RNF10</th>\n",
       "      <td>0</td>\n",
       "      <td>0</td>\n",
       "      <td>0</td>\n",
       "      <td>0</td>\n",
       "      <td>0</td>\n",
       "    </tr>\n",
       "    <tr>\n",
       "      <th>RNF11</th>\n",
       "      <td>0</td>\n",
       "      <td>0</td>\n",
       "      <td>0</td>\n",
       "      <td>0</td>\n",
       "      <td>0</td>\n",
       "    </tr>\n",
       "  </tbody>\n",
       "</table>\n",
       "</div>"
      ],
      "text/plain": [
       "        MYC_UP.V1_UP  PDGF_UP.V1_UP  BMI1_DN.V1_DN  SIRNA_EIF4GI_UP  \\\n",
       "RNF14              0              1              0                0   \n",
       "DUOXA1             0              0              0                0   \n",
       "RNF17              0              0              0                0   \n",
       "RNF10              0              0              0                0   \n",
       "RNF11              0              0              0                0   \n",
       "\n",
       "        CYCLIN_D1_KE_.V1_UP  \n",
       "RNF14                     0  \n",
       "DUOXA1                    0  \n",
       "RNF17                     0  \n",
       "RNF10                     0  \n",
       "RNF11                     0  "
      ]
     },
     "execution_count": 9,
     "metadata": {},
     "output_type": "execute_result"
    }
   ],
   "source": [
    "first_cols = oncogenic_df.columns.values[0:5]\n",
    "oncogenic_df.loc[:, first_cols].head()"
   ]
  },
  {
   "cell_type": "markdown",
   "metadata": {},
   "source": [
    "#### Map gene symbols to Entrez IDs, for compatibility with TCGA expression data"
   ]
  },
  {
   "cell_type": "code",
   "execution_count": 10,
   "metadata": {},
   "outputs": [
    {
     "name": "stdout",
     "output_type": "stream",
     "text": [
      "Querying for exact matches:\n",
      "-- Matched 5850 of 6023 genes\n",
      "Trying to manually map unmapped genes:\n",
      "-- Matched 3 of 173 genes\n",
      "Querying MyGene for aliases of 170 unmatched genes:\n",
      "-- Found aliases for 169 of 170 genes\n",
      "Querying for alias entrez IDs:\n",
      "-- Matched 169 of 169 genes\n",
      "RESULTS: matched 6022 of 6023 genes (0 duplicate Entrez IDs)\n",
      "ADA\t100\n",
      "CDH2\t1000\n",
      "AKT3\t10000\n",
      "MED6\t10001\n",
      "ACOT8\t10005\n"
     ]
    }
   ],
   "source": [
    "gene_symbols = canonical_df.index.values\n",
    "canonical_map = symbol_to_entrez_id(gene_symbols, verbose=True)\n",
    "for i, (k, v) in enumerate(canonical_map.items()):\n",
    "    if i >= 5: break\n",
    "    print('{}\\t{}'.format(k, v))"
   ]
  },
  {
   "cell_type": "code",
   "execution_count": 11,
   "metadata": {},
   "outputs": [
    {
     "data": {
      "text/html": [
       "<div>\n",
       "<style scoped>\n",
       "    .dataframe tbody tr th:only-of-type {\n",
       "        vertical-align: middle;\n",
       "    }\n",
       "\n",
       "    .dataframe tbody tr th {\n",
       "        vertical-align: top;\n",
       "    }\n",
       "\n",
       "    .dataframe thead th {\n",
       "        text-align: right;\n",
       "    }\n",
       "</style>\n",
       "<table border=\"1\" class=\"dataframe\">\n",
       "  <thead>\n",
       "    <tr style=\"text-align: right;\">\n",
       "      <th></th>\n",
       "      <th>PID_CASPASE_PATHWAY</th>\n",
       "      <th>PID_P38ALPHABETADOWNSTREAMPATHWAY</th>\n",
       "      <th>REACTOME_APC_C_CDC20_MEDIATED_DEGRADATION_OF_MITOTIC_PROTEINS</th>\n",
       "      <th>REACTOME_REGULATION_OF_APOPTOSIS</th>\n",
       "      <th>REACTOME_IRON_UPTAKE_AND_TRANSPORT</th>\n",
       "    </tr>\n",
       "  </thead>\n",
       "  <tbody>\n",
       "    <tr>\n",
       "      <th>55585</th>\n",
       "      <td>0</td>\n",
       "      <td>0</td>\n",
       "      <td>0</td>\n",
       "      <td>0</td>\n",
       "      <td>0</td>\n",
       "    </tr>\n",
       "    <tr>\n",
       "      <th>92912</th>\n",
       "      <td>0</td>\n",
       "      <td>0</td>\n",
       "      <td>0</td>\n",
       "      <td>0</td>\n",
       "      <td>0</td>\n",
       "    </tr>\n",
       "    <tr>\n",
       "      <th>5373</th>\n",
       "      <td>0</td>\n",
       "      <td>0</td>\n",
       "      <td>0</td>\n",
       "      <td>0</td>\n",
       "      <td>0</td>\n",
       "    </tr>\n",
       "    <tr>\n",
       "      <th>5372</th>\n",
       "      <td>0</td>\n",
       "      <td>0</td>\n",
       "      <td>0</td>\n",
       "      <td>0</td>\n",
       "      <td>0</td>\n",
       "    </tr>\n",
       "    <tr>\n",
       "      <th>4686</th>\n",
       "      <td>0</td>\n",
       "      <td>0</td>\n",
       "      <td>0</td>\n",
       "      <td>0</td>\n",
       "      <td>0</td>\n",
       "    </tr>\n",
       "  </tbody>\n",
       "</table>\n",
       "</div>"
      ],
      "text/plain": [
       "       PID_CASPASE_PATHWAY  PID_P38ALPHABETADOWNSTREAMPATHWAY  \\\n",
       "55585                    0                                  0   \n",
       "92912                    0                                  0   \n",
       "5373                     0                                  0   \n",
       "5372                     0                                  0   \n",
       "4686                     0                                  0   \n",
       "\n",
       "       REACTOME_APC_C_CDC20_MEDIATED_DEGRADATION_OF_MITOTIC_PROTEINS  \\\n",
       "55585                                                  0               \n",
       "92912                                                  0               \n",
       "5373                                                   0               \n",
       "5372                                                   0               \n",
       "4686                                                   0               \n",
       "\n",
       "       REACTOME_REGULATION_OF_APOPTOSIS  REACTOME_IRON_UPTAKE_AND_TRANSPORT  \n",
       "55585                                 0                                   0  \n",
       "92912                                 0                                   0  \n",
       "5373                                  0                                   0  \n",
       "5372                                  0                                   0  \n",
       "4686                                  0                                   0  "
      ]
     },
     "execution_count": 11,
     "metadata": {},
     "output_type": "execute_result"
    }
   ],
   "source": [
    "canonical_df['eid'] = [canonical_map[g] for g in canonical_df.index.values]\n",
    "canonical_df = canonical_df[canonical_df['eid'] != 'N/A']\n",
    "canonical_df.set_index('eid', inplace=True)\n",
    "del canonical_df.index.name\n",
    "first_cols = canonical_df.columns.values[0:5]\n",
    "canonical_df.loc[:, first_cols].head()"
   ]
  },
  {
   "cell_type": "code",
   "execution_count": 12,
   "metadata": {},
   "outputs": [
    {
     "name": "stdout",
     "output_type": "stream",
     "text": [
      "Number of gene symbols not mapped: 1\n",
      "6023\n",
      "6022\n"
     ]
    }
   ],
   "source": [
    "print('Number of gene symbols not mapped: {}'.format(\n",
    "    len(gene_symbols) - len(canonical_df)))\n",
    "print(len(gene_symbols))\n",
    "print(len(canonical_df))"
   ]
  },
  {
   "cell_type": "code",
   "execution_count": 13,
   "metadata": {},
   "outputs": [],
   "source": [
    "canonical_df.to_csv(os.path.join(cfg.pathway_data, 'canonical_mapped.tsv'),\n",
    "                    sep='\\t')"
   ]
  },
  {
   "cell_type": "markdown",
   "metadata": {},
   "source": [
    "#### TODO: map oncogenic pathway data"
   ]
  },
  {
   "cell_type": "code",
   "execution_count": null,
   "metadata": {},
   "outputs": [],
   "source": []
  }
 ],
 "metadata": {
  "kernelspec": {
   "display_name": "Python [conda env:netreg]",
   "language": "python",
   "name": "conda-env-netreg-py"
  },
  "language_info": {
   "codemirror_mode": {
    "name": "ipython",
    "version": 3
   },
   "file_extension": ".py",
   "mimetype": "text/x-python",
   "name": "python",
   "nbconvert_exporter": "python",
   "pygments_lexer": "ipython3",
   "version": "3.6.8"
  }
 },
 "nbformat": 4,
 "nbformat_minor": 2
}
