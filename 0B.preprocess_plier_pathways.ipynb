{
 "cells": [
  {
   "cell_type": "markdown",
   "metadata": {},
   "source": [
    "# Preprocess PLIER pathway data and map gene symbols to Entrez IDs"
   ]
  },
  {
   "cell_type": "code",
   "execution_count": 1,
   "metadata": {},
   "outputs": [],
   "source": [
    "import os\n",
    "import urllib.request\n",
    "import pandas as pd\n",
    "\n",
    "import config as cfg\n",
    "from scripts.symbol_to_entrez_id import symbol_to_entrez_id"
   ]
  },
  {
   "cell_type": "markdown",
   "metadata": {},
   "source": [
    "## Get pathway .Rdata files from PLIER Github repo\n",
    "\n",
    "#### These are originally derived from MSigDB."
   ]
  },
  {
   "cell_type": "code",
   "execution_count": 2,
   "metadata": {},
   "outputs": [],
   "source": [
    "if not os.path.exists(cfg.pathway_data):\n",
    "    os.makedirs(cfg.pathway_data)\n",
    "canonical_pathways = os.path.join(cfg.pathway_data, 'canonical_pathways.tsv')\n",
    "oncogenic_pathways = os.path.join(cfg.pathway_data, 'oncogenic_pathways.tsv')\n",
    "if (not os.path.exists(canonical_pathways)) or (not os.path.exists(oncogenic_pathways)):\n",
    "    import subprocess\n",
    "    r_script = os.path.join(os.getcwd(), 'scripts', 'get_plier_pathway_data.R')\n",
    "    args = ['Rscript', r_script]\n",
    "    subprocess.check_call(args)"
   ]
  },
  {
   "cell_type": "code",
   "execution_count": 3,
   "metadata": {},
   "outputs": [
    {
     "data": {
      "text/html": [
       "<div>\n",
       "<style scoped>\n",
       "    .dataframe tbody tr th:only-of-type {\n",
       "        vertical-align: middle;\n",
       "    }\n",
       "\n",
       "    .dataframe tbody tr th {\n",
       "        vertical-align: top;\n",
       "    }\n",
       "\n",
       "    .dataframe thead th {\n",
       "        text-align: right;\n",
       "    }\n",
       "</style>\n",
       "<table border=\"1\" class=\"dataframe\">\n",
       "  <thead>\n",
       "    <tr style=\"text-align: right;\">\n",
       "      <th></th>\n",
       "      <th>PID_CASPASE_PATHWAY</th>\n",
       "      <th>PID_P38ALPHABETADOWNSTREAMPATHWAY</th>\n",
       "      <th>REACTOME_APC_C_CDC20_MEDIATED_DEGRADATION_OF_MITOTIC_PROTEINS</th>\n",
       "      <th>REACTOME_REGULATION_OF_APOPTOSIS</th>\n",
       "      <th>REACTOME_IRON_UPTAKE_AND_TRANSPORT</th>\n",
       "    </tr>\n",
       "  </thead>\n",
       "  <tbody>\n",
       "    <tr>\n",
       "      <th>UBE2Q1</th>\n",
       "      <td>0</td>\n",
       "      <td>0</td>\n",
       "      <td>0</td>\n",
       "      <td>0</td>\n",
       "      <td>0</td>\n",
       "    </tr>\n",
       "    <tr>\n",
       "      <th>UBE2Q2</th>\n",
       "      <td>0</td>\n",
       "      <td>0</td>\n",
       "      <td>0</td>\n",
       "      <td>0</td>\n",
       "      <td>0</td>\n",
       "    </tr>\n",
       "    <tr>\n",
       "      <th>PMM2</th>\n",
       "      <td>0</td>\n",
       "      <td>0</td>\n",
       "      <td>0</td>\n",
       "      <td>0</td>\n",
       "      <td>0</td>\n",
       "    </tr>\n",
       "    <tr>\n",
       "      <th>PMM1</th>\n",
       "      <td>0</td>\n",
       "      <td>0</td>\n",
       "      <td>0</td>\n",
       "      <td>0</td>\n",
       "      <td>0</td>\n",
       "    </tr>\n",
       "    <tr>\n",
       "      <th>NCBP1</th>\n",
       "      <td>0</td>\n",
       "      <td>0</td>\n",
       "      <td>0</td>\n",
       "      <td>0</td>\n",
       "      <td>0</td>\n",
       "    </tr>\n",
       "  </tbody>\n",
       "</table>\n",
       "</div>"
      ],
      "text/plain": [
       "        PID_CASPASE_PATHWAY  PID_P38ALPHABETADOWNSTREAMPATHWAY  \\\n",
       "UBE2Q1                    0                                  0   \n",
       "UBE2Q2                    0                                  0   \n",
       "PMM2                      0                                  0   \n",
       "PMM1                      0                                  0   \n",
       "NCBP1                     0                                  0   \n",
       "\n",
       "        REACTOME_APC_C_CDC20_MEDIATED_DEGRADATION_OF_MITOTIC_PROTEINS  \\\n",
       "UBE2Q1                                                  0               \n",
       "UBE2Q2                                                  0               \n",
       "PMM2                                                    0               \n",
       "PMM1                                                    0               \n",
       "NCBP1                                                   0               \n",
       "\n",
       "        REACTOME_REGULATION_OF_APOPTOSIS  REACTOME_IRON_UPTAKE_AND_TRANSPORT  \n",
       "UBE2Q1                                 0                                   0  \n",
       "UBE2Q2                                 0                                   0  \n",
       "PMM2                                   0                                   0  \n",
       "PMM1                                   0                                   0  \n",
       "NCBP1                                  0                                   0  "
      ]
     },
     "execution_count": 3,
     "metadata": {},
     "output_type": "execute_result"
    }
   ],
   "source": [
    "canonical_df = pd.read_csv(canonical_pathways, sep='\\t')\n",
    "oncogenic_df = pd.read_csv(oncogenic_pathways, sep='\\t')\n",
    "first_cols = canonical_df.columns.values[0:5]\n",
    "canonical_df.loc[:, first_cols].head()"
   ]
  },
  {
   "cell_type": "code",
   "execution_count": 4,
   "metadata": {},
   "outputs": [
    {
     "data": {
      "text/html": [
       "<div>\n",
       "<style scoped>\n",
       "    .dataframe tbody tr th:only-of-type {\n",
       "        vertical-align: middle;\n",
       "    }\n",
       "\n",
       "    .dataframe tbody tr th {\n",
       "        vertical-align: top;\n",
       "    }\n",
       "\n",
       "    .dataframe thead th {\n",
       "        text-align: right;\n",
       "    }\n",
       "</style>\n",
       "<table border=\"1\" class=\"dataframe\">\n",
       "  <thead>\n",
       "    <tr style=\"text-align: right;\">\n",
       "      <th></th>\n",
       "      <th>MYC_UP.V1_UP</th>\n",
       "      <th>PDGF_UP.V1_UP</th>\n",
       "      <th>BMI1_DN.V1_DN</th>\n",
       "      <th>SIRNA_EIF4GI_UP</th>\n",
       "      <th>CYCLIN_D1_KE_.V1_UP</th>\n",
       "    </tr>\n",
       "  </thead>\n",
       "  <tbody>\n",
       "    <tr>\n",
       "      <th>RNF14</th>\n",
       "      <td>0</td>\n",
       "      <td>1</td>\n",
       "      <td>0</td>\n",
       "      <td>0</td>\n",
       "      <td>0</td>\n",
       "    </tr>\n",
       "    <tr>\n",
       "      <th>DUOXA1</th>\n",
       "      <td>0</td>\n",
       "      <td>0</td>\n",
       "      <td>0</td>\n",
       "      <td>0</td>\n",
       "      <td>0</td>\n",
       "    </tr>\n",
       "    <tr>\n",
       "      <th>RNF17</th>\n",
       "      <td>0</td>\n",
       "      <td>0</td>\n",
       "      <td>0</td>\n",
       "      <td>0</td>\n",
       "      <td>0</td>\n",
       "    </tr>\n",
       "    <tr>\n",
       "      <th>RNF10</th>\n",
       "      <td>0</td>\n",
       "      <td>0</td>\n",
       "      <td>0</td>\n",
       "      <td>0</td>\n",
       "      <td>0</td>\n",
       "    </tr>\n",
       "    <tr>\n",
       "      <th>RNF11</th>\n",
       "      <td>0</td>\n",
       "      <td>0</td>\n",
       "      <td>0</td>\n",
       "      <td>0</td>\n",
       "      <td>0</td>\n",
       "    </tr>\n",
       "  </tbody>\n",
       "</table>\n",
       "</div>"
      ],
      "text/plain": [
       "        MYC_UP.V1_UP  PDGF_UP.V1_UP  BMI1_DN.V1_DN  SIRNA_EIF4GI_UP  \\\n",
       "RNF14              0              1              0                0   \n",
       "DUOXA1             0              0              0                0   \n",
       "RNF17              0              0              0                0   \n",
       "RNF10              0              0              0                0   \n",
       "RNF11              0              0              0                0   \n",
       "\n",
       "        CYCLIN_D1_KE_.V1_UP  \n",
       "RNF14                     0  \n",
       "DUOXA1                    0  \n",
       "RNF17                     0  \n",
       "RNF10                     0  \n",
       "RNF11                     0  "
      ]
     },
     "execution_count": 4,
     "metadata": {},
     "output_type": "execute_result"
    }
   ],
   "source": [
    "first_cols = oncogenic_df.columns.values[0:5]\n",
    "oncogenic_df.loc[:, first_cols].head()"
   ]
  },
  {
   "cell_type": "markdown",
   "metadata": {},
   "source": [
    "## Map canonical pathway data"
   ]
  },
  {
   "cell_type": "code",
   "execution_count": 5,
   "metadata": {},
   "outputs": [
    {
     "name": "stdout",
     "output_type": "stream",
     "text": [
      "Querying for exact matches:\n",
      "-- Matched 5832 of 6023 genes\n",
      "Trying to manually map unmapped genes:\n",
      "-- Matched 3 of 191 genes\n",
      "Querying MyGene for aliases of 188 unmatched genes:\n",
      "-- Found aliases for 187 of 188 genes\n",
      "Querying for alias entrez IDs:\n",
      "-- Matched 187 of 187 genes\n",
      "RESULTS: matched 6022 of 6023 genes (0 duplicate Entrez IDs)\n",
      "ADA\t100\n",
      "CDH2\t1000\n",
      "AKT3\t10000\n",
      "MED6\t10001\n",
      "ACOT8\t10005\n"
     ]
    }
   ],
   "source": [
    "gene_symbols = canonical_df.index.values\n",
    "canonical_map = symbol_to_entrez_id(gene_symbols, verbose=True)\n",
    "for i, (k, v) in enumerate(canonical_map.items()):\n",
    "    if i >= 5: break\n",
    "    print('{}\\t{}'.format(k, v))"
   ]
  },
  {
   "cell_type": "code",
   "execution_count": 6,
   "metadata": {},
   "outputs": [
    {
     "data": {
      "text/html": [
       "<div>\n",
       "<style scoped>\n",
       "    .dataframe tbody tr th:only-of-type {\n",
       "        vertical-align: middle;\n",
       "    }\n",
       "\n",
       "    .dataframe tbody tr th {\n",
       "        vertical-align: top;\n",
       "    }\n",
       "\n",
       "    .dataframe thead th {\n",
       "        text-align: right;\n",
       "    }\n",
       "</style>\n",
       "<table border=\"1\" class=\"dataframe\">\n",
       "  <thead>\n",
       "    <tr style=\"text-align: right;\">\n",
       "      <th></th>\n",
       "      <th>PID_CASPASE_PATHWAY</th>\n",
       "      <th>PID_P38ALPHABETADOWNSTREAMPATHWAY</th>\n",
       "      <th>REACTOME_APC_C_CDC20_MEDIATED_DEGRADATION_OF_MITOTIC_PROTEINS</th>\n",
       "      <th>REACTOME_REGULATION_OF_APOPTOSIS</th>\n",
       "      <th>REACTOME_IRON_UPTAKE_AND_TRANSPORT</th>\n",
       "    </tr>\n",
       "  </thead>\n",
       "  <tbody>\n",
       "    <tr>\n",
       "      <th>55585</th>\n",
       "      <td>0</td>\n",
       "      <td>0</td>\n",
       "      <td>0</td>\n",
       "      <td>0</td>\n",
       "      <td>0</td>\n",
       "    </tr>\n",
       "    <tr>\n",
       "      <th>92912</th>\n",
       "      <td>0</td>\n",
       "      <td>0</td>\n",
       "      <td>0</td>\n",
       "      <td>0</td>\n",
       "      <td>0</td>\n",
       "    </tr>\n",
       "    <tr>\n",
       "      <th>5373</th>\n",
       "      <td>0</td>\n",
       "      <td>0</td>\n",
       "      <td>0</td>\n",
       "      <td>0</td>\n",
       "      <td>0</td>\n",
       "    </tr>\n",
       "    <tr>\n",
       "      <th>5372</th>\n",
       "      <td>0</td>\n",
       "      <td>0</td>\n",
       "      <td>0</td>\n",
       "      <td>0</td>\n",
       "      <td>0</td>\n",
       "    </tr>\n",
       "    <tr>\n",
       "      <th>4686</th>\n",
       "      <td>0</td>\n",
       "      <td>0</td>\n",
       "      <td>0</td>\n",
       "      <td>0</td>\n",
       "      <td>0</td>\n",
       "    </tr>\n",
       "  </tbody>\n",
       "</table>\n",
       "</div>"
      ],
      "text/plain": [
       "       PID_CASPASE_PATHWAY  PID_P38ALPHABETADOWNSTREAMPATHWAY  \\\n",
       "55585                    0                                  0   \n",
       "92912                    0                                  0   \n",
       "5373                     0                                  0   \n",
       "5372                     0                                  0   \n",
       "4686                     0                                  0   \n",
       "\n",
       "       REACTOME_APC_C_CDC20_MEDIATED_DEGRADATION_OF_MITOTIC_PROTEINS  \\\n",
       "55585                                                  0               \n",
       "92912                                                  0               \n",
       "5373                                                   0               \n",
       "5372                                                   0               \n",
       "4686                                                   0               \n",
       "\n",
       "       REACTOME_REGULATION_OF_APOPTOSIS  REACTOME_IRON_UPTAKE_AND_TRANSPORT  \n",
       "55585                                 0                                   0  \n",
       "92912                                 0                                   0  \n",
       "5373                                  0                                   0  \n",
       "5372                                  0                                   0  \n",
       "4686                                  0                                   0  "
      ]
     },
     "execution_count": 6,
     "metadata": {},
     "output_type": "execute_result"
    }
   ],
   "source": [
    "canonical_df = canonical_df.assign(eid=canonical_df.index.map(canonical_map))\n",
    "unmapped_genes = canonical_df[canonical_df['eid'] == 'N/A']\n",
    "canonical_df = (\n",
    "    canonical_df.dropna(subset=['eid'])\n",
    "    .set_index('eid')\n",
    ")\n",
    "del canonical_df.index.name\n",
    "canonical_df.iloc[:5, :5]"
   ]
  },
  {
   "cell_type": "code",
   "execution_count": 7,
   "metadata": {},
   "outputs": [
    {
     "name": "stdout",
     "output_type": "stream",
     "text": [
      "Number of gene symbols not mapped: 1 (CD97)\n"
     ]
    }
   ],
   "source": [
    "print('Number of gene symbols not mapped: {} ({})'.format(\n",
    "    len(unmapped_genes), ' '.join(unmapped_genes.index.values)))"
   ]
  },
  {
   "cell_type": "code",
   "execution_count": 8,
   "metadata": {},
   "outputs": [],
   "source": [
    "canonical_df.to_csv(os.path.join(cfg.pathway_data, 'canonical_mapped.tsv'),\n",
    "                    sep='\\t')"
   ]
  },
  {
   "cell_type": "markdown",
   "metadata": {},
   "source": [
    "## Map oncogenic pathway data"
   ]
  },
  {
   "cell_type": "code",
   "execution_count": 9,
   "metadata": {},
   "outputs": [
    {
     "name": "stdout",
     "output_type": "stream",
     "text": [
      "Querying for exact matches:\n",
      "-- Matched 10288 of 11250 genes\n",
      "Trying to manually map unmapped genes:\n",
      "-- Matched 162 of 962 genes\n",
      "Querying MyGene for aliases of 800 unmatched genes:\n",
      "-- Found aliases for 707 of 800 genes\n",
      "Querying for alias entrez IDs:\n",
      "-- Matched 707 of 707 genes\n",
      "RESULTS: matched 11157 of 11250 genes (1 duplicate Entrez IDs)\n",
      "ADA\t100\n",
      "CDH2\t1000\n",
      "AKT3\t10000\n",
      "MED6\t10001\n",
      "ACOT8\t10005\n"
     ]
    }
   ],
   "source": [
    "gene_symbols = oncogenic_df.index.values\n",
    "oncogenic_map = symbol_to_entrez_id(gene_symbols, verbose=True)\n",
    "for i, (k, v) in enumerate(canonical_map.items()):\n",
    "    if i >= 5: break\n",
    "    print('{}\\t{}'.format(k, v))"
   ]
  },
  {
   "cell_type": "code",
   "execution_count": 10,
   "metadata": {},
   "outputs": [
    {
     "data": {
      "text/html": [
       "<div>\n",
       "<style scoped>\n",
       "    .dataframe tbody tr th:only-of-type {\n",
       "        vertical-align: middle;\n",
       "    }\n",
       "\n",
       "    .dataframe tbody tr th {\n",
       "        vertical-align: top;\n",
       "    }\n",
       "\n",
       "    .dataframe thead th {\n",
       "        text-align: right;\n",
       "    }\n",
       "</style>\n",
       "<table border=\"1\" class=\"dataframe\">\n",
       "  <thead>\n",
       "    <tr style=\"text-align: right;\">\n",
       "      <th></th>\n",
       "      <th>MYC_UP.V1_UP</th>\n",
       "      <th>PDGF_UP.V1_UP</th>\n",
       "      <th>BMI1_DN.V1_DN</th>\n",
       "      <th>SIRNA_EIF4GI_UP</th>\n",
       "      <th>CYCLIN_D1_KE_.V1_UP</th>\n",
       "    </tr>\n",
       "  </thead>\n",
       "  <tbody>\n",
       "    <tr>\n",
       "      <th>9604</th>\n",
       "      <td>0</td>\n",
       "      <td>1</td>\n",
       "      <td>0</td>\n",
       "      <td>0</td>\n",
       "      <td>0</td>\n",
       "    </tr>\n",
       "    <tr>\n",
       "      <th>90527</th>\n",
       "      <td>0</td>\n",
       "      <td>0</td>\n",
       "      <td>0</td>\n",
       "      <td>0</td>\n",
       "      <td>0</td>\n",
       "    </tr>\n",
       "    <tr>\n",
       "      <th>56163</th>\n",
       "      <td>0</td>\n",
       "      <td>0</td>\n",
       "      <td>0</td>\n",
       "      <td>0</td>\n",
       "      <td>0</td>\n",
       "    </tr>\n",
       "    <tr>\n",
       "      <th>9921</th>\n",
       "      <td>0</td>\n",
       "      <td>0</td>\n",
       "      <td>0</td>\n",
       "      <td>0</td>\n",
       "      <td>0</td>\n",
       "    </tr>\n",
       "    <tr>\n",
       "      <th>26994</th>\n",
       "      <td>0</td>\n",
       "      <td>0</td>\n",
       "      <td>0</td>\n",
       "      <td>0</td>\n",
       "      <td>0</td>\n",
       "    </tr>\n",
       "  </tbody>\n",
       "</table>\n",
       "</div>"
      ],
      "text/plain": [
       "       MYC_UP.V1_UP  PDGF_UP.V1_UP  BMI1_DN.V1_DN  SIRNA_EIF4GI_UP  \\\n",
       "9604              0              1              0                0   \n",
       "90527             0              0              0                0   \n",
       "56163             0              0              0                0   \n",
       "9921              0              0              0                0   \n",
       "26994             0              0              0                0   \n",
       "\n",
       "       CYCLIN_D1_KE_.V1_UP  \n",
       "9604                     0  \n",
       "90527                    0  \n",
       "56163                    0  \n",
       "9921                     0  \n",
       "26994                    0  "
      ]
     },
     "execution_count": 10,
     "metadata": {},
     "output_type": "execute_result"
    }
   ],
   "source": [
    "oncogenic_df['eid'] = [oncogenic_map[g] for g in oncogenic_df.index.values]\n",
    "oncogenic_df = oncogenic_df[oncogenic_df['eid'] != 'N/A']\n",
    "oncogenic_df.set_index('eid', inplace=True)\n",
    "del oncogenic_df.index.name\n",
    "first_cols = oncogenic_df.columns.values[0:5]\n",
    "oncogenic_df.loc[:, first_cols].head()"
   ]
  },
  {
   "cell_type": "code",
   "execution_count": 11,
   "metadata": {},
   "outputs": [],
   "source": [
    "oncogenic_df.to_csv(os.path.join(cfg.pathway_data, 'oncogenic_mapped.tsv'),\n",
    "                    sep='\\t')"
   ]
  },
  {
   "cell_type": "markdown",
   "metadata": {},
   "source": [
    "## Generate randomized pathway data from set of all TCGA genes"
   ]
  },
  {
   "cell_type": "code",
   "execution_count": 53,
   "metadata": {},
   "outputs": [
    {
     "name": "stdout",
     "output_type": "stream",
     "text": [
      "(9954, 16148)\n",
      "(1106, 16148)\n"
     ]
    }
   ],
   "source": [
    "train_df = pd.read_csv(os.path.join(cfg.data_dir, 'train_tcga_expression_matrix_processed.tsv.gz'),\n",
    "                       sep='\\t', index_col=0)\n",
    "test_df = pd.read_csv(os.path.join(cfg.data_dir, 'test_tcga_expression_matrix_processed.tsv.gz'),\n",
    "                      sep='\\t', index_col=0)\n",
    "print(train_df.shape)\n",
    "print(test_df.shape)"
   ]
  },
  {
   "cell_type": "code",
   "execution_count": 54,
   "metadata": {},
   "outputs": [
    {
     "data": {
      "image/png": "[encoded data removed]",
      "text/plain": [
       "<Figure size 432x288 with 1 Axes>"
      ]
     },
     "metadata": {},
     "output_type": "display_data"
    },
    {
     "name": "stdout",
     "output_type": "stream",
     "text": [
      "(array([  1,   2,   3,   4,   5,   6,   7,   8,   9,  10,  11,  12,  13,\n",
      "        14,  15,  16,  17,  18,  19,  20,  21,  22,  23,  24,  25,  26,\n",
      "        27,  28,  29,  30,  31,  32,  33,  35,  36,  37,  38,  39,  40,\n",
      "        41,  42,  43,  44,  45,  47,  48,  49,  50,  51,  52,  54,  55,\n",
      "        56,  57,  60,  61,  62,  63,  64,  65,  66,  68,  71,  72,  73,\n",
      "        76,  77,  80,  82,  83,  86,  88, 102, 103, 107, 110, 111, 122,\n",
      "       136, 138, 139]), array([1346,  947,  707,  596,  426,  305,  279,  196,  176,  118,   90,\n",
      "         86,   78,   89,   64,   52,   45,   35,   33,   37,   14,   23,\n",
      "         13,   18,   30,    9,   11,    7,    6,    5,    5,   10,   13,\n",
      "          3,    5,    9,    7,    5,    6,    3,    2,    4,    1,    4,\n",
      "          7,   34,    6,    4,    3,    2,    4,    1,    3,    2,    2,\n",
      "          2,    3,    1,    1,    1,    1,    2,    1,    2,    1,    2,\n",
      "          2,    1,    1,    3,    1,    1,    1,    1,    1,    1,    1,\n",
      "          1,    1,    2,    1]))\n"
     ]
    }
   ],
   "source": [
    "import matplotlib.pyplot as plt\n",
    "import seaborn as sns\n",
    "np.random.seed(1)\n",
    "sns.set()\n",
    "sns.distplot(canonical_df.sum(axis=1).values, kde=False)\n",
    "plt.show()\n",
    "print(np.unique(canonical_df.sum(axis=1).values, return_counts=True))"
   ]
  },
  {
   "cell_type": "code",
   "execution_count": 55,
   "metadata": {},
   "outputs": [
    {
     "name": "stdout",
     "output_type": "stream",
     "text": [
      "(array([ 2,  3,  4,  5,  6,  7,  8,  9, 10, 11, 12, 13, 14, 15, 16, 17, 18,\n",
      "       19, 20, 21, 22, 23, 24, 25, 26, 27, 28, 29, 30, 31, 32, 33, 34, 35,\n",
      "       36, 37, 38, 39, 41, 42, 57]), array([731, 648, 554, 439, 393, 361, 264, 241, 223, 167, 138, 119, 126,\n",
      "       102,  76,  61,  59,  43,  38,  27,  28,  20,  25,  18,  21,  12,\n",
      "        12,   8,  10,   5,   6,   1,   4,   1,   5,   3,   4,   2,   2,\n",
      "         2,   1]))\n"
     ]
    },
    {
     "data": {
      "image/png": "[encoded data removed]",
      "text/plain": [
       "<Figure size 432x288 with 1 Axes>"
      ]
     },
     "metadata": {},
     "output_type": "display_data"
    }
   ],
   "source": [
    "num_pws = 5000\n",
    "num_genes = train_df.shape[1]\n",
    "sim_counts = np.random.geometric(p=0.15, size=num_pws)+1\n",
    "sns.distplot(sim_counts, kde=False)\n",
    "print(np.unique(sim_counts, return_counts=True))"
   ]
  },
  {
   "cell_type": "code",
   "execution_count": 56,
   "metadata": {},
   "outputs": [
    {
     "name": "stdout",
     "output_type": "stream",
     "text": [
      "[[0 0 0 0 0 0 0 0 0]\n",
      " [0 0 0 0 0 0 0 0 0]\n",
      " [0 0 0 0 0 0 0 0 0]\n",
      " [0 0 0 0 0 0 0 0 0]\n",
      " [0 0 0 0 0 0 0 0 0]\n",
      " [0 0 0 0 0 0 0 0 0]\n",
      " [0 0 0 0 0 0 0 0 0]\n",
      " [0 0 0 0 0 0 0 0 0]\n",
      " [0 0 0 0 0 0 0 0 0]]\n",
      "[ 5  9  2 ...  4 31  3]\n"
     ]
    }
   ],
   "source": [
    "sim_pws = np.zeros((num_pws, num_genes), dtype=int)\n",
    "for i, pw_count in enumerate(sim_counts):\n",
    "    sim_pw = np.zeros((num_genes,), dtype=int)\n",
    "    sim_pw[0:pw_count] = 1\n",
    "    np.random.shuffle(sim_pw)\n",
    "    sim_pws[i, :] = sim_pw\n",
    "print(sim_pws[1:10, 1:10])\n",
    "print(np.sum(sim_pws, axis=1))"
   ]
  },
  {
   "cell_type": "code",
   "execution_count": 57,
   "metadata": {},
   "outputs": [
    {
     "name": "stdout",
     "output_type": "stream",
     "text": [
      "       PW1  PW2  PW3  PW4  PW5  PW6  PW7  PW8  PW9  PW10  ...  PW4991  PW4992  \\\n",
      "1        0    0    0    0    0    0    0    0    0     0  ...       0       0   \n",
      "10       0    0    0    0    0    0    0    0    0     0  ...       0       0   \n",
      "100      0    0    0    0    0    0    0    0    0     0  ...       0       0   \n",
      "1000     0    0    0    0    0    0    0    0    0     0  ...       0       0   \n",
      "10000    0    0    0    0    0    0    0    0    0     0  ...       0       0   \n",
      "\n",
      "       PW4993  PW4994  PW4995  PW4996  PW4997  PW4998  PW4999  PW5000  \n",
      "1           0       0       0       0       0       0       0       0  \n",
      "10          0       0       0       0       0       0       0       0  \n",
      "100         0       0       0       0       0       0       0       0  \n",
      "1000        0       0       0       0       0       0       0       0  \n",
      "10000       0       0       0       0       0       0       0       0  \n",
      "\n",
      "[5 rows x 5000 columns]\n"
     ]
    }
   ],
   "source": [
    "pw_names = ['PW{}'.format(i) for i in range(1, num_pws+1)]\n",
    "sim_df = pd.DataFrame(data=sim_pws, index=pw_names, columns=train_df.columns).T\n",
    "print(sim_df.head())"
   ]
  },
  {
   "cell_type": "code",
   "execution_count": null,
   "metadata": {},
   "outputs": [],
   "source": [
    "sim_df.to_csv(os.path.join(cfg.pathway_data, 'randomized_pathways.tsv'),\n",
    "              sep='\\t')"
   ]
  },
  {
   "cell_type": "code",
   "execution_count": null,
   "metadata": {},
   "outputs": [],
   "source": []
  }
 ],
 "metadata": {
  "kernelspec": {
   "display_name": "Python [conda env:netreg]",
   "language": "python",
   "name": "conda-env-netreg-py"
  },
  "language_info": {
   "codemirror_mode": {
    "name": "ipython",
    "version": 3
   },
   "file_extension": ".py",
   "mimetype": "text/x-python",
   "name": "python",
   "nbconvert_exporter": "python",
   "pygments_lexer": "ipython3",
   "version": "3.6.8"
  }
 },
 "nbformat": 4,
 "nbformat_minor": 2
}
